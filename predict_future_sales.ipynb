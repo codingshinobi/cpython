{
  "nbformat": 4,
  "nbformat_minor": 0,
  "metadata": {
    "colab": {
      "name": "predict_future_sales.ipynb",
      "provenance": [],
      "collapsed_sections": [],
      "authorship_tag": "ABX9TyPjqMhH8uY6iK70aA36QfC5",
      "include_colab_link": true
    },
    "kernelspec": {
      "name": "python3",
      "display_name": "Python 3"
    }
  },
  "cells": [
    {
      "cell_type": "markdown",
      "metadata": {
        "id": "view-in-github",
        "colab_type": "text"
      },
      "source": [
        "<a href=\"https://colab.research.google.com/github/codingshinobi/cpython/blob/master/predict_future_sales.ipynb\" target=\"_parent\"><img src=\"https://colab.research.google.com/assets/colab-badge.svg\" alt=\"Open In Colab\"/></a>"
      ]
    },
    {
      "cell_type": "markdown",
      "metadata": {
        "id": "apip5nUh0nw2"
      },
      "source": [
        "Improting pre-requisites and libraries"
      ]
    },
    {
      "cell_type": "code",
      "metadata": {
        "id": "GDyap7Ll0jGr"
      },
      "source": [
        "import pandas as pd # pandas for the tabular data frames\r\n",
        "import numpy as np # for all the numbers\r\n",
        "import matplotlib.pyplot as plt # matplotlib for data visualizations - charts, plots, graphs\r\n",
        "import seaborn as sns\r\n",
        "import time"
      ],
      "execution_count": 1,
      "outputs": []
    },
    {
      "cell_type": "markdown",
      "metadata": {
        "id": "klNLDGx_5v17"
      },
      "source": [
        "Importing the datasets"
      ]
    },
    {
      "cell_type": "code",
      "metadata": {
        "id": "5Ntozt404Yep"
      },
      "source": [
        "# the main training dataset\r\n",
        "train_df = pd.read_csv(r\"E:\\DATASETS\\sales_train.csv\")  \r\n",
        "\r\n",
        "# The test dataset where data will be predicted \r\n",
        "test_df = pd.read_csv(r\"E:\\DATASETS\\test.csv\")\r\n",
        "\r\n",
        "#the extra help data on shops\r\n",
        "shops_df = pd.read_csv(r\"E:\\DATASETS\\shops.csv\")\r\n",
        "\r\n",
        "# Data on items\r\n",
        "items_df = pd.read_csv(r\"E:\\DATASETS\\items.csv\")\r\n",
        "\r\n",
        "# item categories\r\n",
        "item_cat_df = pd.read_csv(r\"E:\\DATASETS\\item_categories.csv\")"
      ],
      "execution_count": 2,
      "outputs": []
    },
    {
      "cell_type": "markdown",
      "metadata": {
        "id": "UWQkMAcJfDZ3"
      },
      "source": [
        "Analyzing, visualizing, cleaning the train dataset\r\n"
      ]
    },
    {
      "cell_type": "code",
      "metadata": {
        "colab": {
          "base_uri": "https://localhost:8080/",
          "height": 195
        },
        "id": "poGMnFVB6cFf",
        "outputId": "8995edd2-d065-42db-9bae-ac27e7bf4c76"
      },
      "source": [
        "train_df.head()"
      ],
      "execution_count": 3,
      "outputs": [
        {
          "output_type": "execute_result",
          "data": {
            "text/plain": [
              "         date  date_block_num  shop_id  item_id  item_price  item_cnt_day\n",
              "0  02.01.2013               0       59    22154      999.00           1.0\n",
              "1  03.01.2013               0       25     2552      899.00           1.0\n",
              "2  05.01.2013               0       25     2552      899.00          -1.0\n",
              "3  06.01.2013               0       25     2554     1709.05           1.0\n",
              "4  15.01.2013               0       25     2555     1099.00           1.0"
            ],
            "text/html": [
              "<div>\n",
              "<style scoped>\n",
              "    .dataframe tbody tr th:only-of-type {\n",
              "        vertical-align: middle;\n",
              "    }\n",
              "\n",
              "    .dataframe tbody tr th {\n",
              "        vertical-align: top;\n",
              "    }\n",
              "\n",
              "    .dataframe thead th {\n",
              "        text-align: right;\n",
              "    }\n",
              "</style>\n",
              "<table border=\"1\" class=\"dataframe\">\n",
              "  <thead>\n",
              "    <tr style=\"text-align: right;\">\n",
              "      <th></th>\n",
              "      <th>date</th>\n",
              "      <th>date_block_num</th>\n",
              "      <th>shop_id</th>\n",
              "      <th>item_id</th>\n",
              "      <th>item_price</th>\n",
              "      <th>item_cnt_day</th>\n",
              "    </tr>\n",
              "  </thead>\n",
              "  <tbody>\n",
              "    <tr>\n",
              "      <th>0</th>\n",
              "      <td>02.01.2013</td>\n",
              "      <td>0</td>\n",
              "      <td>59</td>\n",
              "      <td>22154</td>\n",
              "      <td>999.00</td>\n",
              "      <td>1.0</td>\n",
              "    </tr>\n",
              "    <tr>\n",
              "      <th>1</th>\n",
              "      <td>03.01.2013</td>\n",
              "      <td>0</td>\n",
              "      <td>25</td>\n",
              "      <td>2552</td>\n",
              "      <td>899.00</td>\n",
              "      <td>1.0</td>\n",
              "    </tr>\n",
              "    <tr>\n",
              "      <th>2</th>\n",
              "      <td>05.01.2013</td>\n",
              "      <td>0</td>\n",
              "      <td>25</td>\n",
              "      <td>2552</td>\n",
              "      <td>899.00</td>\n",
              "      <td>-1.0</td>\n",
              "    </tr>\n",
              "    <tr>\n",
              "      <th>3</th>\n",
              "      <td>06.01.2013</td>\n",
              "      <td>0</td>\n",
              "      <td>25</td>\n",
              "      <td>2554</td>\n",
              "      <td>1709.05</td>\n",
              "      <td>1.0</td>\n",
              "    </tr>\n",
              "    <tr>\n",
              "      <th>4</th>\n",
              "      <td>15.01.2013</td>\n",
              "      <td>0</td>\n",
              "      <td>25</td>\n",
              "      <td>2555</td>\n",
              "      <td>1099.00</td>\n",
              "      <td>1.0</td>\n",
              "    </tr>\n",
              "  </tbody>\n",
              "</table>\n",
              "</div>"
            ]
          },
          "metadata": {
            "tags": []
          },
          "execution_count": 3
        }
      ]
    },
    {
      "cell_type": "code",
      "metadata": {
        "colab": {
          "base_uri": "https://localhost:8080/"
        },
        "id": "46pTKPc2ByB8",
        "outputId": "dfd834b5-bc96-443e-beaf-c6d7286b9f9b"
      },
      "source": [
        "print(\"Shape of the data Set is :  \",train_df.shape)\r\n",
        "print(\"Size of the data Set is  :  \",train_df.size)"
      ],
      "execution_count": 4,
      "outputs": [
        {
          "output_type": "stream",
          "text": [
            "Shape of the data Set is :   (2935849, 6)\n",
            "Size of the data Set is  :   17615094\n"
          ],
          "name": "stdout"
        }
      ]
    },
    {
      "cell_type": "code",
      "metadata": {
        "colab": {
          "base_uri": "https://localhost:8080/"
        },
        "id": "YfQLLHTvB9ww",
        "outputId": "c3cf6158-bcf7-4657-d819-45c36aa0c7f2"
      },
      "source": [
        "train_df.info()"
      ],
      "execution_count": 5,
      "outputs": [
        {
          "output_type": "stream",
          "text": [
            "<class 'pandas.core.frame.DataFrame'>\n",
            "RangeIndex: 2935849 entries, 0 to 2935848\n",
            "Data columns (total 6 columns):\n",
            " #   Column          Dtype  \n",
            "---  ------          -----  \n",
            " 0   date            object \n",
            " 1   date_block_num  int64  \n",
            " 2   shop_id         int64  \n",
            " 3   item_id         int64  \n",
            " 4   item_price      float64\n",
            " 5   item_cnt_day    float64\n",
            "dtypes: float64(2), int64(3), object(1)\n",
            "memory usage: 134.4+ MB\n"
          ],
          "name": "stdout"
        }
      ]
    },
    {
      "cell_type": "code",
      "metadata": {
        "id": "Q5VBM3XQCMt0"
      },
      "source": [
        "train_df['date'] = pd.to_datetime(train_df['date'])"
      ],
      "execution_count": 6,
      "outputs": []
    },
    {
      "cell_type": "code",
      "metadata": {
        "colab": {
          "base_uri": "https://localhost:8080/"
        },
        "id": "a36R6TKuFdxX",
        "outputId": "54bacf71-74cf-45c7-d68c-1342122d17e7"
      },
      "source": [
        "train_df.info()"
      ],
      "execution_count": 7,
      "outputs": [
        {
          "output_type": "stream",
          "text": [
            "<class 'pandas.core.frame.DataFrame'>\n",
            "RangeIndex: 2935849 entries, 0 to 2935848\n",
            "Data columns (total 6 columns):\n",
            " #   Column          Dtype         \n",
            "---  ------          -----         \n",
            " 0   date            datetime64[ns]\n",
            " 1   date_block_num  int64         \n",
            " 2   shop_id         int64         \n",
            " 3   item_id         int64         \n",
            " 4   item_price      float64       \n",
            " 5   item_cnt_day    float64       \n",
            "dtypes: datetime64[ns](1), float64(2), int64(3)\n",
            "memory usage: 134.4 MB\n"
          ],
          "name": "stdout"
        }
      ]
    },
    {
      "cell_type": "code",
      "metadata": {
        "colab": {
          "base_uri": "https://localhost:8080/",
          "height": 634
        },
        "id": "2CQaIvtUFlQY",
        "outputId": "340a9253-25c6-4343-9fd0-50a72d9dd0d5"
      },
      "source": [
        "# Graph showing item sales per month\r\n",
        "plt.figure(figsize= (18,10))\r\n",
        "plt.title('Items sold per month', fontsize=22)\r\n",
        "ax= sns.barplot(x='date_block_num', y= 'item_id', data=train_df, estimator=np.sum)\r\n",
        "ax= ax.set(xlabel = 'Date Blocks', ylabel= 'Items ID' )\r\n",
        "plt.xticks(rotation=45)\r\n",
        "plt.show()"
      ],
      "execution_count": 8,
      "outputs": [
        {
          "output_type": "display_data",
          "data": {
            "text/plain": [
              "<Figure size 1296x720 with 1 Axes>"
            ],
            "image/png": "[encoded data removed]"
          },
          "metadata": {
            "tags": [],
            "needs_background": "light"
          }
        }
      ]
    },
    {
      "cell_type": "code",
      "metadata": {
        "colab": {
          "base_uri": "https://localhost:8080/",
          "height": 628
        },
        "id": "hZOG-I4_NMlY",
        "outputId": "d44271ce-c265-4d1a-8ebd-c9f51e23e27d"
      },
      "source": [
        "# This vizualization shows items sold in shops\r\n",
        "plt.figure(figsize=(18,10))\r\n",
        "plt.title('Items sold per shops')\r\n",
        "ax = sns.barplot(x= 'shop_id', y = 'item_id', data=train_df, estimator = np.sum)\r\n",
        "ax = ax.set(xlabel = 'Shop_Id', ylabel = 'Item_Id' )\r\n",
        "plt.xticks(rotation=45)\r\n",
        "plt.show()"
      ],
      "execution_count": 9,
      "outputs": [
        {
          "output_type": "display_data",
          "data": {
            "text/plain": [
              "<Figure size 1296x720 with 1 Axes>"
            ],
            "image/png": "[encoded data removed]"
          },
          "metadata": {
            "tags": [],
            "needs_background": "light"
          }
        }
      ]
    },
    {
      "cell_type": "markdown",
      "metadata": {
        "id": "xEgApGX2fLIZ"
      },
      "source": [
        "Looking deeper into the shops dataset\r\n"
      ]
    },
    {
      "cell_type": "code",
      "metadata": {
        "colab": {
          "base_uri": "https://localhost:8080/",
          "height": 195
        },
        "id": "e6UR2bYfPiNO",
        "outputId": "a5fc9d24-2ecc-4be2-8191-1f2001f6d6a9"
      },
      "source": [
        "shops_df.head()"
      ],
      "execution_count": 10,
      "outputs": [
        {
          "output_type": "execute_result",
          "data": {
            "text/plain": [
              "                        shop_name  shop_id\n",
              "0   !Якутск Орджоникидзе, 56 фран        0\n",
              "1   !Якутск ТЦ \"Центральный\" фран        1\n",
              "2                Адыгея ТЦ \"Мега\"        2\n",
              "3  Балашиха ТРК \"Октябрь-Киномир\"        3\n",
              "4        Волжский ТЦ \"Волга Молл\"        4"
            ],
            "text/html": [
              "<div>\n",
              "<style scoped>\n",
              "    .dataframe tbody tr th:only-of-type {\n",
              "        vertical-align: middle;\n",
              "    }\n",
              "\n",
              "    .dataframe tbody tr th {\n",
              "        vertical-align: top;\n",
              "    }\n",
              "\n",
              "    .dataframe thead th {\n",
              "        text-align: right;\n",
              "    }\n",
              "</style>\n",
              "<table border=\"1\" class=\"dataframe\">\n",
              "  <thead>\n",
              "    <tr style=\"text-align: right;\">\n",
              "      <th></th>\n",
              "      <th>shop_name</th>\n",
              "      <th>shop_id</th>\n",
              "    </tr>\n",
              "  </thead>\n",
              "  <tbody>\n",
              "    <tr>\n",
              "      <th>0</th>\n",
              "      <td>!Якутск Орджоникидзе, 56 фран</td>\n",
              "      <td>0</td>\n",
              "    </tr>\n",
              "    <tr>\n",
              "      <th>1</th>\n",
              "      <td>!Якутск ТЦ \"Центральный\" фран</td>\n",
              "      <td>1</td>\n",
              "    </tr>\n",
              "    <tr>\n",
              "      <th>2</th>\n",
              "      <td>Адыгея ТЦ \"Мега\"</td>\n",
              "      <td>2</td>\n",
              "    </tr>\n",
              "    <tr>\n",
              "      <th>3</th>\n",
              "      <td>Балашиха ТРК \"Октябрь-Киномир\"</td>\n",
              "      <td>3</td>\n",
              "    </tr>\n",
              "    <tr>\n",
              "      <th>4</th>\n",
              "      <td>Волжский ТЦ \"Волга Молл\"</td>\n",
              "      <td>4</td>\n",
              "    </tr>\n",
              "  </tbody>\n",
              "</table>\n",
              "</div>"
            ]
          },
          "metadata": {
            "tags": []
          },
          "execution_count": 10
        }
      ]
    },
    {
      "cell_type": "code",
      "metadata": {
        "colab": {
          "base_uri": "https://localhost:8080/"
        },
        "id": "8KRZ-8WqP9fl",
        "outputId": "edf88172-46c0-4929-feab-0925fa914da8"
      },
      "source": [
        "shops_df['shop_name']"
      ],
      "execution_count": 11,
      "outputs": [
        {
          "output_type": "execute_result",
          "data": {
            "text/plain": [
              "0                       !Якутск Орджоникидзе, 56 фран\n",
              "1                       !Якутск ТЦ \"Центральный\" фран\n",
              "2                                    Адыгея ТЦ \"Мега\"\n",
              "3                      Балашиха ТРК \"Октябрь-Киномир\"\n",
              "4                            Волжский ТЦ \"Волга Молл\"\n",
              "5                              Вологда ТРЦ \"Мармелад\"\n",
              "6                          Воронеж (Плехановская, 13)\n",
              "7                              Воронеж ТРЦ \"Максимир\"\n",
              "8                        Воронеж ТРЦ Сити-Парк \"Град\"\n",
              "9                                   Выездная Торговля\n",
              "10                         Жуковский ул. Чкалова 39м?\n",
              "11                         Жуковский ул. Чкалова 39м²\n",
              "12                                Интернет-магазин ЧС\n",
              "13                                Казань ТЦ \"Бехетле\"\n",
              "14                            Казань ТЦ \"ПаркХаус\" II\n",
              "15                               Калуга ТРЦ \"XXI век\"\n",
              "16                                   Коломна ТЦ \"Рио\"\n",
              "17                      Красноярск ТЦ \"Взлетка Плаза\"\n",
              "18                               Красноярск ТЦ \"Июнь\"\n",
              "19                              Курск ТЦ \"Пушкинский\"\n",
              "20                                Москва \"Распродажа\"\n",
              "21                             Москва МТРЦ \"Афи Молл\"\n",
              "22                                 Москва Магазин С21\n",
              "23                   Москва ТК \"Буденовский\" (пав.А2)\n",
              "24                   Москва ТК \"Буденовский\" (пав.К7)\n",
              "25                                Москва ТРК \"Атриум\"\n",
              "26                        Москва ТЦ \"Ареал\" (Беляево)\n",
              "27                     Москва ТЦ \"МЕГА Белая Дача II\"\n",
              "28                    Москва ТЦ \"МЕГА Теплый Стан\" II\n",
              "29                 Москва ТЦ \"Новый век\" (Новокосино)\n",
              "30                             Москва ТЦ \"Перловский\"\n",
              "31                            Москва ТЦ \"Семеновский\"\n",
              "32                         Москва ТЦ \"Серебряный Дом\"\n",
              "33                                  Мытищи ТРК \"XL-3\"\n",
              "34                               Н.Новгород ТРЦ \"РИО\"\n",
              "35                        Н.Новгород ТРЦ \"Фантастика\"\n",
              "36              Новосибирск ТРЦ \"Галерея Новосибирск\"\n",
              "37                              Новосибирск ТЦ \"Мега\"\n",
              "38                                     Омск ТЦ \"Мега\"\n",
              "39              РостовНаДону ТРК \"Мегацентр Горизонт\"\n",
              "40    РостовНаДону ТРК \"Мегацентр Горизонт\" Островной\n",
              "41                             РостовНаДону ТЦ \"Мега\"\n",
              "42                             СПб ТК \"Невский Центр\"\n",
              "43                                    СПб ТК \"Сенная\"\n",
              "44                                Самара ТЦ \"Мелодия\"\n",
              "45                               Самара ТЦ \"ПаркХаус\"\n",
              "46                              Сергиев Посад ТЦ \"7Я\"\n",
              "47                             Сургут ТРЦ \"Сити Молл\"\n",
              "48                       Томск ТРЦ \"Изумрудный Город\"\n",
              "49                              Тюмень ТРЦ \"Кристалл\"\n",
              "50                                 Тюмень ТЦ \"Гудвин\"\n",
              "51                          Тюмень ТЦ \"Зеленый Берег\"\n",
              "52                               Уфа ТК \"Центральный\"\n",
              "53                                   Уфа ТЦ \"Семья\" 2\n",
              "54                                    Химки ТЦ \"Мега\"\n",
              "55                           Цифровой склад 1С-Онлайн\n",
              "56                               Чехов ТРЦ \"Карнавал\"\n",
              "57                            Якутск Орджоникидзе, 56\n",
              "58                            Якутск ТЦ \"Центральный\"\n",
              "59                             Ярославль ТЦ \"Альтаир\"\n",
              "Name: shop_name, dtype: object"
            ]
          },
          "metadata": {
            "tags": []
          },
          "execution_count": 11
        }
      ]
    },
    {
      "cell_type": "code",
      "metadata": {
        "colab": {
          "base_uri": "https://localhost:8080/"
        },
        "id": "f_Rh-05zQCgs",
        "outputId": "d96bdb3c-2aba-44aa-c61e-21dd38ae3853"
      },
      "source": [
        "shops_df[\"shop_id\"].count()"
      ],
      "execution_count": 12,
      "outputs": [
        {
          "output_type": "execute_result",
          "data": {
            "text/plain": [
              "60"
            ]
          },
          "metadata": {
            "tags": []
          },
          "execution_count": 12
        }
      ]
    },
    {
      "cell_type": "code",
      "metadata": {
        "id": "0bGllejuQWBT"
      },
      "source": [
        "shops_df = shops_df.drop_duplicates(subset='shop_id')"
      ],
      "execution_count": 13,
      "outputs": []
    },
    {
      "cell_type": "code",
      "metadata": {
        "colab": {
          "base_uri": "https://localhost:8080/",
          "height": 195
        },
        "id": "D8nyEbLLQ6BI",
        "outputId": "f2ff45e2-9034-4634-94a2-efa0e9f98591"
      },
      "source": [
        "shops_df.head()"
      ],
      "execution_count": 14,
      "outputs": [
        {
          "output_type": "execute_result",
          "data": {
            "text/plain": [
              "                        shop_name  shop_id\n",
              "0   !Якутск Орджоникидзе, 56 фран        0\n",
              "1   !Якутск ТЦ \"Центральный\" фран        1\n",
              "2                Адыгея ТЦ \"Мега\"        2\n",
              "3  Балашиха ТРК \"Октябрь-Киномир\"        3\n",
              "4        Волжский ТЦ \"Волга Молл\"        4"
            ],
            "text/html": [
              "<div>\n",
              "<style scoped>\n",
              "    .dataframe tbody tr th:only-of-type {\n",
              "        vertical-align: middle;\n",
              "    }\n",
              "\n",
              "    .dataframe tbody tr th {\n",
              "        vertical-align: top;\n",
              "    }\n",
              "\n",
              "    .dataframe thead th {\n",
              "        text-align: right;\n",
              "    }\n",
              "</style>\n",
              "<table border=\"1\" class=\"dataframe\">\n",
              "  <thead>\n",
              "    <tr style=\"text-align: right;\">\n",
              "      <th></th>\n",
              "      <th>shop_name</th>\n",
              "      <th>shop_id</th>\n",
              "    </tr>\n",
              "  </thead>\n",
              "  <tbody>\n",
              "    <tr>\n",
              "      <th>0</th>\n",
              "      <td>!Якутск Орджоникидзе, 56 фран</td>\n",
              "      <td>0</td>\n",
              "    </tr>\n",
              "    <tr>\n",
              "      <th>1</th>\n",
              "      <td>!Якутск ТЦ \"Центральный\" фран</td>\n",
              "      <td>1</td>\n",
              "    </tr>\n",
              "    <tr>\n",
              "      <th>2</th>\n",
              "      <td>Адыгея ТЦ \"Мега\"</td>\n",
              "      <td>2</td>\n",
              "    </tr>\n",
              "    <tr>\n",
              "      <th>3</th>\n",
              "      <td>Балашиха ТРК \"Октябрь-Киномир\"</td>\n",
              "      <td>3</td>\n",
              "    </tr>\n",
              "    <tr>\n",
              "      <th>4</th>\n",
              "      <td>Волжский ТЦ \"Волга Молл\"</td>\n",
              "      <td>4</td>\n",
              "    </tr>\n",
              "  </tbody>\n",
              "</table>\n",
              "</div>"
            ]
          },
          "metadata": {
            "tags": []
          },
          "execution_count": 14
        }
      ]
    },
    {
      "cell_type": "code",
      "metadata": {
        "colab": {
          "base_uri": "https://localhost:8080/"
        },
        "id": "i0kDhTsaQ9nU",
        "outputId": "ffbae573-02b6-41bb-adb2-37d1a33e2b13"
      },
      "source": [
        "shops_df[\"shop_id\"].count()"
      ],
      "execution_count": 15,
      "outputs": [
        {
          "output_type": "execute_result",
          "data": {
            "text/plain": [
              "60"
            ]
          },
          "metadata": {
            "tags": []
          },
          "execution_count": 15
        }
      ]
    },
    {
      "cell_type": "markdown",
      "metadata": {
        "id": "Li0EfL3igGGy"
      },
      "source": [
        "Analysing and cleaning items dataset."
      ]
    },
    {
      "cell_type": "code",
      "metadata": {
        "colab": {
          "base_uri": "https://localhost:8080/",
          "height": 195
        },
        "id": "hPFmTC9WRUtz",
        "outputId": "a0172a90-09bb-4173-9729-26132a0a92c8"
      },
      "source": [
        "items_df.head()"
      ],
      "execution_count": 16,
      "outputs": [
        {
          "output_type": "execute_result",
          "data": {
            "text/plain": [
              "                                           item_name  item_id  \\\n",
              "0          ! ВО ВЛАСТИ НАВАЖДЕНИЯ (ПЛАСТ.)         D        0   \n",
              "1  !ABBYY FineReader 12 Professional Edition Full...        1   \n",
              "2      ***В ЛУЧАХ СЛАВЫ   (UNV)                    D        2   \n",
              "3    ***ГОЛУБАЯ ВОЛНА  (Univ)                      D        3   \n",
              "4        ***КОРОБКА (СТЕКЛО)                       D        4   \n",
              "\n",
              "   item_category_id  \n",
              "0                40  \n",
              "1                76  \n",
              "2                40  \n",
              "3                40  \n",
              "4                40  "
            ],
            "text/html": [
              "<div>\n",
              "<style scoped>\n",
              "    .dataframe tbody tr th:only-of-type {\n",
              "        vertical-align: middle;\n",
              "    }\n",
              "\n",
              "    .dataframe tbody tr th {\n",
              "        vertical-align: top;\n",
              "    }\n",
              "\n",
              "    .dataframe thead th {\n",
              "        text-align: right;\n",
              "    }\n",
              "</style>\n",
              "<table border=\"1\" class=\"dataframe\">\n",
              "  <thead>\n",
              "    <tr style=\"text-align: right;\">\n",
              "      <th></th>\n",
              "      <th>item_name</th>\n",
              "      <th>item_id</th>\n",
              "      <th>item_category_id</th>\n",
              "    </tr>\n",
              "  </thead>\n",
              "  <tbody>\n",
              "    <tr>\n",
              "      <th>0</th>\n",
              "      <td>! ВО ВЛАСТИ НАВАЖДЕНИЯ (ПЛАСТ.)         D</td>\n",
              "      <td>0</td>\n",
              "      <td>40</td>\n",
              "    </tr>\n",
              "    <tr>\n",
              "      <th>1</th>\n",
              "      <td>!ABBYY FineReader 12 Professional Edition Full...</td>\n",
              "      <td>1</td>\n",
              "      <td>76</td>\n",
              "    </tr>\n",
              "    <tr>\n",
              "      <th>2</th>\n",
              "      <td>***В ЛУЧАХ СЛАВЫ   (UNV)                    D</td>\n",
              "      <td>2</td>\n",
              "      <td>40</td>\n",
              "    </tr>\n",
              "    <tr>\n",
              "      <th>3</th>\n",
              "      <td>***ГОЛУБАЯ ВОЛНА  (Univ)                      D</td>\n",
              "      <td>3</td>\n",
              "      <td>40</td>\n",
              "    </tr>\n",
              "    <tr>\n",
              "      <th>4</th>\n",
              "      <td>***КОРОБКА (СТЕКЛО)                       D</td>\n",
              "      <td>4</td>\n",
              "      <td>40</td>\n",
              "    </tr>\n",
              "  </tbody>\n",
              "</table>\n",
              "</div>"
            ]
          },
          "metadata": {
            "tags": []
          },
          "execution_count": 16
        }
      ]
    },
    {
      "cell_type": "code",
      "metadata": {
        "colab": {
          "base_uri": "https://localhost:8080/"
        },
        "id": "jwm8DckGR5OL",
        "outputId": "27ef58d8-8724-4d8d-b320-69e839ebceba"
      },
      "source": [
        "items_df['item_name'].nunique()"
      ],
      "execution_count": 17,
      "outputs": [
        {
          "output_type": "execute_result",
          "data": {
            "text/plain": [
              "22170"
            ]
          },
          "metadata": {
            "tags": []
          },
          "execution_count": 17
        }
      ]
    },
    {
      "cell_type": "markdown",
      "metadata": {
        "id": "6ZcF0c6kgUax"
      },
      "source": [
        "Analysing item_cat dataset."
      ]
    },
    {
      "cell_type": "code",
      "metadata": {
        "colab": {
          "base_uri": "https://localhost:8080/",
          "height": 195
        },
        "id": "lda-uYFVR5x7",
        "outputId": "8cf8193b-00e9-4136-a890-6ac39b9142ac"
      },
      "source": [
        "# let's have a look at the item_category dataset\r\n",
        "item_cat_df.head()"
      ],
      "execution_count": 18,
      "outputs": [
        {
          "output_type": "execute_result",
          "data": {
            "text/plain": [
              "        item_category_name  item_category_id\n",
              "0  PC - Гарнитуры/Наушники                 0\n",
              "1         Аксессуары - PS2                 1\n",
              "2         Аксессуары - PS3                 2\n",
              "3         Аксессуары - PS4                 3\n",
              "4         Аксессуары - PSP                 4"
            ],
            "text/html": [
              "<div>\n",
              "<style scoped>\n",
              "    .dataframe tbody tr th:only-of-type {\n",
              "        vertical-align: middle;\n",
              "    }\n",
              "\n",
              "    .dataframe tbody tr th {\n",
              "        vertical-align: top;\n",
              "    }\n",
              "\n",
              "    .dataframe thead th {\n",
              "        text-align: right;\n",
              "    }\n",
              "</style>\n",
              "<table border=\"1\" class=\"dataframe\">\n",
              "  <thead>\n",
              "    <tr style=\"text-align: right;\">\n",
              "      <th></th>\n",
              "      <th>item_category_name</th>\n",
              "      <th>item_category_id</th>\n",
              "    </tr>\n",
              "  </thead>\n",
              "  <tbody>\n",
              "    <tr>\n",
              "      <th>0</th>\n",
              "      <td>PC - Гарнитуры/Наушники</td>\n",
              "      <td>0</td>\n",
              "    </tr>\n",
              "    <tr>\n",
              "      <th>1</th>\n",
              "      <td>Аксессуары - PS2</td>\n",
              "      <td>1</td>\n",
              "    </tr>\n",
              "    <tr>\n",
              "      <th>2</th>\n",
              "      <td>Аксессуары - PS3</td>\n",
              "      <td>2</td>\n",
              "    </tr>\n",
              "    <tr>\n",
              "      <th>3</th>\n",
              "      <td>Аксессуары - PS4</td>\n",
              "      <td>3</td>\n",
              "    </tr>\n",
              "    <tr>\n",
              "      <th>4</th>\n",
              "      <td>Аксессуары - PSP</td>\n",
              "      <td>4</td>\n",
              "    </tr>\n",
              "  </tbody>\n",
              "</table>\n",
              "</div>"
            ]
          },
          "metadata": {
            "tags": []
          },
          "execution_count": 18
        }
      ]
    },
    {
      "cell_type": "code",
      "metadata": {
        "colab": {
          "base_uri": "https://localhost:8080/"
        },
        "id": "LOeEEDT1R7Vv",
        "outputId": "1debafec-643a-4d08-926f-88bb6baa21a9"
      },
      "source": [
        "# look at the item_category_name \r\n",
        "item_cat_df['item_category_name'].count()"
      ],
      "execution_count": 19,
      "outputs": [
        {
          "output_type": "execute_result",
          "data": {
            "text/plain": [
              "84"
            ]
          },
          "metadata": {
            "tags": []
          },
          "execution_count": 19
        }
      ]
    },
    {
      "cell_type": "code",
      "metadata": {
        "colab": {
          "base_uri": "https://localhost:8080/",
          "height": 195
        },
        "id": "d4AUTjjDR73C",
        "outputId": "5d046bf5-82fb-4895-ce49-05fa79a3d515"
      },
      "source": [
        "# Will have to create a new column named category which is split by the str(-)\r\n",
        "item_cat_df['category'] = item_cat_df['item_category_name'].str.split('-')\r\n",
        "item_cat_df.head()"
      ],
      "execution_count": 20,
      "outputs": [
        {
          "output_type": "execute_result",
          "data": {
            "text/plain": [
              "        item_category_name  item_category_id                    category\n",
              "0  PC - Гарнитуры/Наушники                 0  [PC ,  Гарнитуры/Наушники]\n",
              "1         Аксессуары - PS2                 1         [Аксессуары ,  PS2]\n",
              "2         Аксессуары - PS3                 2         [Аксессуары ,  PS3]\n",
              "3         Аксессуары - PS4                 3         [Аксессуары ,  PS4]\n",
              "4         Аксессуары - PSP                 4         [Аксессуары ,  PSP]"
            ],
            "text/html": [
              "<div>\n",
              "<style scoped>\n",
              "    .dataframe tbody tr th:only-of-type {\n",
              "        vertical-align: middle;\n",
              "    }\n",
              "\n",
              "    .dataframe tbody tr th {\n",
              "        vertical-align: top;\n",
              "    }\n",
              "\n",
              "    .dataframe thead th {\n",
              "        text-align: right;\n",
              "    }\n",
              "</style>\n",
              "<table border=\"1\" class=\"dataframe\">\n",
              "  <thead>\n",
              "    <tr style=\"text-align: right;\">\n",
              "      <th></th>\n",
              "      <th>item_category_name</th>\n",
              "      <th>item_category_id</th>\n",
              "      <th>category</th>\n",
              "    </tr>\n",
              "  </thead>\n",
              "  <tbody>\n",
              "    <tr>\n",
              "      <th>0</th>\n",
              "      <td>PC - Гарнитуры/Наушники</td>\n",
              "      <td>0</td>\n",
              "      <td>[PC ,  Гарнитуры/Наушники]</td>\n",
              "    </tr>\n",
              "    <tr>\n",
              "      <th>1</th>\n",
              "      <td>Аксессуары - PS2</td>\n",
              "      <td>1</td>\n",
              "      <td>[Аксессуары ,  PS2]</td>\n",
              "    </tr>\n",
              "    <tr>\n",
              "      <th>2</th>\n",
              "      <td>Аксессуары - PS3</td>\n",
              "      <td>2</td>\n",
              "      <td>[Аксессуары ,  PS3]</td>\n",
              "    </tr>\n",
              "    <tr>\n",
              "      <th>3</th>\n",
              "      <td>Аксессуары - PS4</td>\n",
              "      <td>3</td>\n",
              "      <td>[Аксессуары ,  PS4]</td>\n",
              "    </tr>\n",
              "    <tr>\n",
              "      <th>4</th>\n",
              "      <td>Аксессуары - PSP</td>\n",
              "      <td>4</td>\n",
              "      <td>[Аксессуары ,  PSP]</td>\n",
              "    </tr>\n",
              "  </tbody>\n",
              "</table>\n",
              "</div>"
            ]
          },
          "metadata": {
            "tags": []
          },
          "execution_count": 20
        }
      ]
    },
    {
      "cell_type": "code",
      "metadata": {
        "colab": {
          "base_uri": "https://localhost:8080/",
          "height": 195
        },
        "id": "r0WfPMT1R8Lj",
        "outputId": "ecc12e69-6baa-46a3-c1e7-97b5eea5fc57"
      },
      "source": [
        "# create a new column by type and strip the first part of the category\r\n",
        "item_cat_df['type']= item_cat_df['category'].apply(lambda x: x[0].strip())\r\n",
        "item_cat_df.head()"
      ],
      "execution_count": 21,
      "outputs": [
        {
          "output_type": "execute_result",
          "data": {
            "text/plain": [
              "        item_category_name  item_category_id                    category  \\\n",
              "0  PC - Гарнитуры/Наушники                 0  [PC ,  Гарнитуры/Наушники]   \n",
              "1         Аксессуары - PS2                 1         [Аксессуары ,  PS2]   \n",
              "2         Аксессуары - PS3                 2         [Аксессуары ,  PS3]   \n",
              "3         Аксессуары - PS4                 3         [Аксессуары ,  PS4]   \n",
              "4         Аксессуары - PSP                 4         [Аксессуары ,  PSP]   \n",
              "\n",
              "         type  \n",
              "0          PC  \n",
              "1  Аксессуары  \n",
              "2  Аксессуары  \n",
              "3  Аксессуары  \n",
              "4  Аксессуары  "
            ],
            "text/html": [
              "<div>\n",
              "<style scoped>\n",
              "    .dataframe tbody tr th:only-of-type {\n",
              "        vertical-align: middle;\n",
              "    }\n",
              "\n",
              "    .dataframe tbody tr th {\n",
              "        vertical-align: top;\n",
              "    }\n",
              "\n",
              "    .dataframe thead th {\n",
              "        text-align: right;\n",
              "    }\n",
              "</style>\n",
              "<table border=\"1\" class=\"dataframe\">\n",
              "  <thead>\n",
              "    <tr style=\"text-align: right;\">\n",
              "      <th></th>\n",
              "      <th>item_category_name</th>\n",
              "      <th>item_category_id</th>\n",
              "      <th>category</th>\n",
              "      <th>type</th>\n",
              "    </tr>\n",
              "  </thead>\n",
              "  <tbody>\n",
              "    <tr>\n",
              "      <th>0</th>\n",
              "      <td>PC - Гарнитуры/Наушники</td>\n",
              "      <td>0</td>\n",
              "      <td>[PC ,  Гарнитуры/Наушники]</td>\n",
              "      <td>PC</td>\n",
              "    </tr>\n",
              "    <tr>\n",
              "      <th>1</th>\n",
              "      <td>Аксессуары - PS2</td>\n",
              "      <td>1</td>\n",
              "      <td>[Аксессуары ,  PS2]</td>\n",
              "      <td>Аксессуары</td>\n",
              "    </tr>\n",
              "    <tr>\n",
              "      <th>2</th>\n",
              "      <td>Аксессуары - PS3</td>\n",
              "      <td>2</td>\n",
              "      <td>[Аксессуары ,  PS3]</td>\n",
              "      <td>Аксессуары</td>\n",
              "    </tr>\n",
              "    <tr>\n",
              "      <th>3</th>\n",
              "      <td>Аксессуары - PS4</td>\n",
              "      <td>3</td>\n",
              "      <td>[Аксессуары ,  PS4]</td>\n",
              "      <td>Аксессуары</td>\n",
              "    </tr>\n",
              "    <tr>\n",
              "      <th>4</th>\n",
              "      <td>Аксессуары - PSP</td>\n",
              "      <td>4</td>\n",
              "      <td>[Аксессуары ,  PSP]</td>\n",
              "      <td>Аксессуары</td>\n",
              "    </tr>\n",
              "  </tbody>\n",
              "</table>\n",
              "</div>"
            ]
          },
          "metadata": {
            "tags": []
          },
          "execution_count": 21
        }
      ]
    },
    {
      "cell_type": "code",
      "metadata": {
        "colab": {
          "base_uri": "https://localhost:8080/",
          "height": 195
        },
        "id": "pV3UYAkdRVir",
        "outputId": "fc2d2e9c-c862-4278-c0eb-582c1ee610dc"
      },
      "source": [
        "# Create a new column by name sub type and split the second part of the category \r\n",
        "item_cat_df['sub_type'] = item_cat_df['category'].apply(lambda x: x[1].strip() if len(x) > 1 else x[0].strip())\r\n",
        "item_cat_df.head()"
      ],
      "execution_count": 22,
      "outputs": [
        {
          "output_type": "execute_result",
          "data": {
            "text/plain": [
              "        item_category_name  item_category_id                    category  \\\n",
              "0  PC - Гарнитуры/Наушники                 0  [PC ,  Гарнитуры/Наушники]   \n",
              "1         Аксессуары - PS2                 1         [Аксессуары ,  PS2]   \n",
              "2         Аксессуары - PS3                 2         [Аксессуары ,  PS3]   \n",
              "3         Аксессуары - PS4                 3         [Аксессуары ,  PS4]   \n",
              "4         Аксессуары - PSP                 4         [Аксессуары ,  PSP]   \n",
              "\n",
              "         type            sub_type  \n",
              "0          PC  Гарнитуры/Наушники  \n",
              "1  Аксессуары                 PS2  \n",
              "2  Аксессуары                 PS3  \n",
              "3  Аксессуары                 PS4  \n",
              "4  Аксессуары                 PSP  "
            ],
            "text/html": [
              "<div>\n",
              "<style scoped>\n",
              "    .dataframe tbody tr th:only-of-type {\n",
              "        vertical-align: middle;\n",
              "    }\n",
              "\n",
              "    .dataframe tbody tr th {\n",
              "        vertical-align: top;\n",
              "    }\n",
              "\n",
              "    .dataframe thead th {\n",
              "        text-align: right;\n",
              "    }\n",
              "</style>\n",
              "<table border=\"1\" class=\"dataframe\">\n",
              "  <thead>\n",
              "    <tr style=\"text-align: right;\">\n",
              "      <th></th>\n",
              "      <th>item_category_name</th>\n",
              "      <th>item_category_id</th>\n",
              "      <th>category</th>\n",
              "      <th>type</th>\n",
              "      <th>sub_type</th>\n",
              "    </tr>\n",
              "  </thead>\n",
              "  <tbody>\n",
              "    <tr>\n",
              "      <th>0</th>\n",
              "      <td>PC - Гарнитуры/Наушники</td>\n",
              "      <td>0</td>\n",
              "      <td>[PC ,  Гарнитуры/Наушники]</td>\n",
              "      <td>PC</td>\n",
              "      <td>Гарнитуры/Наушники</td>\n",
              "    </tr>\n",
              "    <tr>\n",
              "      <th>1</th>\n",
              "      <td>Аксессуары - PS2</td>\n",
              "      <td>1</td>\n",
              "      <td>[Аксессуары ,  PS2]</td>\n",
              "      <td>Аксессуары</td>\n",
              "      <td>PS2</td>\n",
              "    </tr>\n",
              "    <tr>\n",
              "      <th>2</th>\n",
              "      <td>Аксессуары - PS3</td>\n",
              "      <td>2</td>\n",
              "      <td>[Аксессуары ,  PS3]</td>\n",
              "      <td>Аксессуары</td>\n",
              "      <td>PS3</td>\n",
              "    </tr>\n",
              "    <tr>\n",
              "      <th>3</th>\n",
              "      <td>Аксессуары - PS4</td>\n",
              "      <td>3</td>\n",
              "      <td>[Аксессуары ,  PS4]</td>\n",
              "      <td>Аксессуары</td>\n",
              "      <td>PS4</td>\n",
              "    </tr>\n",
              "    <tr>\n",
              "      <th>4</th>\n",
              "      <td>Аксессуары - PSP</td>\n",
              "      <td>4</td>\n",
              "      <td>[Аксессуары ,  PSP]</td>\n",
              "      <td>Аксессуары</td>\n",
              "      <td>PSP</td>\n",
              "    </tr>\n",
              "  </tbody>\n",
              "</table>\n",
              "</div>"
            ]
          },
          "metadata": {
            "tags": []
          },
          "execution_count": 22
        }
      ]
    },
    {
      "cell_type": "code",
      "metadata": {
        "id": "b9Qb9uQkRWe_"
      },
      "source": [
        "# now that item_category_name and category columns have become useless we'll drop them\r\n",
        "item_cat_df.drop(['item_category_name', 'category'],inplace=True, axis=1)"
      ],
      "execution_count": 23,
      "outputs": []
    },
    {
      "cell_type": "code",
      "metadata": {
        "colab": {
          "base_uri": "https://localhost:8080/"
        },
        "id": "2S6DNhPxRXBC",
        "outputId": "236d57d0-513b-4bb5-ced6-57eec52be832"
      },
      "source": [
        "print(\"    Unique Types: \",item_cat_df['type'].nunique())\r\n",
        "print(\"Unique Sub Types: \",item_cat_df['sub_type'].nunique())"
      ],
      "execution_count": 24,
      "outputs": [
        {
          "output_type": "stream",
          "text": [
            "    Unique Types:  20\n",
            "Unique Sub Types:  65\n"
          ],
          "name": "stdout"
        }
      ]
    },
    {
      "cell_type": "code",
      "metadata": {
        "colab": {
          "base_uri": "https://localhost:8080/",
          "height": 658
        },
        "id": "GwJfXSC_RXQt",
        "outputId": "8322ed59-b71e-4493-eddf-c49bcb79493d"
      },
      "source": [
        "# this plot is to show the item category data with respect to types of products\r\n",
        "plt.figure(figsize = (18,10))\r\n",
        "plt.title('# of types of items per category wise', fontsize=24)\r\n",
        "ax = sns.barplot(x = 'item_category_id', y='type', data= item_cat_df, \r\n",
        "                 estimator = np.sum)\r\n",
        "ax = ax.set(xlabel = 'Category ID', ylabel='Type')\r\n",
        "plt.xticks(rotation=45)\r\n",
        "plt.plot()"
      ],
      "execution_count": 25,
      "outputs": [
        {
          "output_type": "execute_result",
          "data": {
            "text/plain": [
              "[]"
            ]
          },
          "metadata": {
            "tags": []
          },
          "execution_count": 25
        },
        {
          "output_type": "display_data",
          "data": {
            "text/plain": [
              "<Figure size 1296x720 with 1 Axes>"
            ],
            "image/png": "[encoded data removed]"
          },
          "metadata": {
            "tags": [],
            "needs_background": "light"
          }
        }
      ]
    },
    {
      "cell_type": "markdown",
      "metadata": {
        "id": "mJeyEBjeejeG"
      },
      "source": [
        "Merging datasets to make master dataset\r\n"
      ]
    },
    {
      "cell_type": "code",
      "metadata": {
        "colab": {
          "base_uri": "https://localhost:8080/",
          "height": 195
        },
        "id": "wSuKOjn48ZS0",
        "outputId": "d94d4dc1-1522-4ed2-f93a-6a1f96e0cfca"
      },
      "source": [
        "# we will merge train, items datsets and call it master dataset\r\n",
        "master_data = pd.merge(train_df, items_df, how = 'left', on = 'item_id')\r\n",
        "master_data.head()"
      ],
      "execution_count": 26,
      "outputs": [
        {
          "output_type": "execute_result",
          "data": {
            "text/plain": [
              "        date  date_block_num  shop_id  item_id  item_price  item_cnt_day  \\\n",
              "0 2013-02-01               0       59    22154      999.00           1.0   \n",
              "1 2013-03-01               0       25     2552      899.00           1.0   \n",
              "2 2013-05-01               0       25     2552      899.00          -1.0   \n",
              "3 2013-06-01               0       25     2554     1709.05           1.0   \n",
              "4 2013-01-15               0       25     2555     1099.00           1.0   \n",
              "\n",
              "                                  item_name  item_category_id  \n",
              "0                         ЯВЛЕНИЕ 2012 (BD)                37  \n",
              "1  DEEP PURPLE  The House Of Blue Light  LP                58  \n",
              "2  DEEP PURPLE  The House Of Blue Light  LP                58  \n",
              "3  DEEP PURPLE  Who Do You Think We Are  LP                58  \n",
              "4   DEEP PURPLE 30 Very Best Of 2CD (Фирм.)                56  "
            ],
            "text/html": [
              "<div>\n",
              "<style scoped>\n",
              "    .dataframe tbody tr th:only-of-type {\n",
              "        vertical-align: middle;\n",
              "    }\n",
              "\n",
              "    .dataframe tbody tr th {\n",
              "        vertical-align: top;\n",
              "    }\n",
              "\n",
              "    .dataframe thead th {\n",
              "        text-align: right;\n",
              "    }\n",
              "</style>\n",
              "<table border=\"1\" class=\"dataframe\">\n",
              "  <thead>\n",
              "    <tr style=\"text-align: right;\">\n",
              "      <th></th>\n",
              "      <th>date</th>\n",
              "      <th>date_block_num</th>\n",
              "      <th>shop_id</th>\n",
              "      <th>item_id</th>\n",
              "      <th>item_price</th>\n",
              "      <th>item_cnt_day</th>\n",
              "      <th>item_name</th>\n",
              "      <th>item_category_id</th>\n",
              "    </tr>\n",
              "  </thead>\n",
              "  <tbody>\n",
              "    <tr>\n",
              "      <th>0</th>\n",
              "      <td>2013-02-01</td>\n",
              "      <td>0</td>\n",
              "      <td>59</td>\n",
              "      <td>22154</td>\n",
              "      <td>999.00</td>\n",
              "      <td>1.0</td>\n",
              "      <td>ЯВЛЕНИЕ 2012 (BD)</td>\n",
              "      <td>37</td>\n",
              "    </tr>\n",
              "    <tr>\n",
              "      <th>1</th>\n",
              "      <td>2013-03-01</td>\n",
              "      <td>0</td>\n",
              "      <td>25</td>\n",
              "      <td>2552</td>\n",
              "      <td>899.00</td>\n",
              "      <td>1.0</td>\n",
              "      <td>DEEP PURPLE  The House Of Blue Light  LP</td>\n",
              "      <td>58</td>\n",
              "    </tr>\n",
              "    <tr>\n",
              "      <th>2</th>\n",
              "      <td>2013-05-01</td>\n",
              "      <td>0</td>\n",
              "      <td>25</td>\n",
              "      <td>2552</td>\n",
              "      <td>899.00</td>\n",
              "      <td>-1.0</td>\n",
              "      <td>DEEP PURPLE  The House Of Blue Light  LP</td>\n",
              "      <td>58</td>\n",
              "    </tr>\n",
              "    <tr>\n",
              "      <th>3</th>\n",
              "      <td>2013-06-01</td>\n",
              "      <td>0</td>\n",
              "      <td>25</td>\n",
              "      <td>2554</td>\n",
              "      <td>1709.05</td>\n",
              "      <td>1.0</td>\n",
              "      <td>DEEP PURPLE  Who Do You Think We Are  LP</td>\n",
              "      <td>58</td>\n",
              "    </tr>\n",
              "    <tr>\n",
              "      <th>4</th>\n",
              "      <td>2013-01-15</td>\n",
              "      <td>0</td>\n",
              "      <td>25</td>\n",
              "      <td>2555</td>\n",
              "      <td>1099.00</td>\n",
              "      <td>1.0</td>\n",
              "      <td>DEEP PURPLE 30 Very Best Of 2CD (Фирм.)</td>\n",
              "      <td>56</td>\n",
              "    </tr>\n",
              "  </tbody>\n",
              "</table>\n",
              "</div>"
            ]
          },
          "metadata": {
            "tags": []
          },
          "execution_count": 26
        }
      ]
    },
    {
      "cell_type": "code",
      "metadata": {
        "colab": {
          "base_uri": "https://localhost:8080/"
        },
        "id": "e0gpFE0I80_K",
        "outputId": "333a7cec-29ae-4a97-d451-33777ef725af"
      },
      "source": [
        "# also merge item_category dataset\r\n",
        "master_data = pd.merge(master_data, item_cat_df, how = 'left', on = 'item_category_id')\r\n",
        "\r\n",
        "# I will also merge the shops dataset\r\n",
        "master_data = pd.merge(master_data, shops_df, how = 'left', on = 'shop_id')\r\n",
        "\r\n",
        "print(\"shape:\", master_data.shape)\r\n",
        "print(\"size:\", master_data.size)"
      ],
      "execution_count": 27,
      "outputs": [
        {
          "output_type": "stream",
          "text": [
            "shape: (2935849, 11)\n",
            "size: 32294339\n"
          ],
          "name": "stdout"
        }
      ]
    },
    {
      "cell_type": "code",
      "metadata": {
        "colab": {
          "base_uri": "https://localhost:8080/",
          "height": 279
        },
        "id": "jRHj9HQDBuvE",
        "outputId": "a76afc17-d63c-4120-c153-264bcf816d12"
      },
      "source": [
        "master_data.head()"
      ],
      "execution_count": 28,
      "outputs": [
        {
          "output_type": "execute_result",
          "data": {
            "text/plain": [
              "        date  date_block_num  shop_id  item_id  item_price  item_cnt_day  \\\n",
              "0 2013-02-01               0       59    22154      999.00           1.0   \n",
              "1 2013-03-01               0       25     2552      899.00           1.0   \n",
              "2 2013-05-01               0       25     2552      899.00          -1.0   \n",
              "3 2013-06-01               0       25     2554     1709.05           1.0   \n",
              "4 2013-01-15               0       25     2555     1099.00           1.0   \n",
              "\n",
              "                                  item_name  item_category_id    type  \\\n",
              "0                         ЯВЛЕНИЕ 2012 (BD)                37    Кино   \n",
              "1  DEEP PURPLE  The House Of Blue Light  LP                58  Музыка   \n",
              "2  DEEP PURPLE  The House Of Blue Light  LP                58  Музыка   \n",
              "3  DEEP PURPLE  Who Do You Think We Are  LP                58  Музыка   \n",
              "4   DEEP PURPLE 30 Very Best Of 2CD (Фирм.)                56  Музыка   \n",
              "\n",
              "                     sub_type               shop_name  \n",
              "0                         Blu  Ярославль ТЦ \"Альтаир\"  \n",
              "1                       Винил     Москва ТРК \"Атриум\"  \n",
              "2                       Винил     Москва ТРК \"Атриум\"  \n",
              "3                       Винил     Москва ТРК \"Атриум\"  \n",
              "4  CD фирменного производства     Москва ТРК \"Атриум\"  "
            ],
            "text/html": [
              "<div>\n",
              "<style scoped>\n",
              "    .dataframe tbody tr th:only-of-type {\n",
              "        vertical-align: middle;\n",
              "    }\n",
              "\n",
              "    .dataframe tbody tr th {\n",
              "        vertical-align: top;\n",
              "    }\n",
              "\n",
              "    .dataframe thead th {\n",
              "        text-align: right;\n",
              "    }\n",
              "</style>\n",
              "<table border=\"1\" class=\"dataframe\">\n",
              "  <thead>\n",
              "    <tr style=\"text-align: right;\">\n",
              "      <th></th>\n",
              "      <th>date</th>\n",
              "      <th>date_block_num</th>\n",
              "      <th>shop_id</th>\n",
              "      <th>item_id</th>\n",
              "      <th>item_price</th>\n",
              "      <th>item_cnt_day</th>\n",
              "      <th>item_name</th>\n",
              "      <th>item_category_id</th>\n",
              "      <th>type</th>\n",
              "      <th>sub_type</th>\n",
              "      <th>shop_name</th>\n",
              "    </tr>\n",
              "  </thead>\n",
              "  <tbody>\n",
              "    <tr>\n",
              "      <th>0</th>\n",
              "      <td>2013-02-01</td>\n",
              "      <td>0</td>\n",
              "      <td>59</td>\n",
              "      <td>22154</td>\n",
              "      <td>999.00</td>\n",
              "      <td>1.0</td>\n",
              "      <td>ЯВЛЕНИЕ 2012 (BD)</td>\n",
              "      <td>37</td>\n",
              "      <td>Кино</td>\n",
              "      <td>Blu</td>\n",
              "      <td>Ярославль ТЦ \"Альтаир\"</td>\n",
              "    </tr>\n",
              "    <tr>\n",
              "      <th>1</th>\n",
              "      <td>2013-03-01</td>\n",
              "      <td>0</td>\n",
              "      <td>25</td>\n",
              "      <td>2552</td>\n",
              "      <td>899.00</td>\n",
              "      <td>1.0</td>\n",
              "      <td>DEEP PURPLE  The House Of Blue Light  LP</td>\n",
              "      <td>58</td>\n",
              "      <td>Музыка</td>\n",
              "      <td>Винил</td>\n",
              "      <td>Москва ТРК \"Атриум\"</td>\n",
              "    </tr>\n",
              "    <tr>\n",
              "      <th>2</th>\n",
              "      <td>2013-05-01</td>\n",
              "      <td>0</td>\n",
              "      <td>25</td>\n",
              "      <td>2552</td>\n",
              "      <td>899.00</td>\n",
              "      <td>-1.0</td>\n",
              "      <td>DEEP PURPLE  The House Of Blue Light  LP</td>\n",
              "      <td>58</td>\n",
              "      <td>Музыка</td>\n",
              "      <td>Винил</td>\n",
              "      <td>Москва ТРК \"Атриум\"</td>\n",
              "    </tr>\n",
              "    <tr>\n",
              "      <th>3</th>\n",
              "      <td>2013-06-01</td>\n",
              "      <td>0</td>\n",
              "      <td>25</td>\n",
              "      <td>2554</td>\n",
              "      <td>1709.05</td>\n",
              "      <td>1.0</td>\n",
              "      <td>DEEP PURPLE  Who Do You Think We Are  LP</td>\n",
              "      <td>58</td>\n",
              "      <td>Музыка</td>\n",
              "      <td>Винил</td>\n",
              "      <td>Москва ТРК \"Атриум\"</td>\n",
              "    </tr>\n",
              "    <tr>\n",
              "      <th>4</th>\n",
              "      <td>2013-01-15</td>\n",
              "      <td>0</td>\n",
              "      <td>25</td>\n",
              "      <td>2555</td>\n",
              "      <td>1099.00</td>\n",
              "      <td>1.0</td>\n",
              "      <td>DEEP PURPLE 30 Very Best Of 2CD (Фирм.)</td>\n",
              "      <td>56</td>\n",
              "      <td>Музыка</td>\n",
              "      <td>CD фирменного производства</td>\n",
              "      <td>Москва ТРК \"Атриум\"</td>\n",
              "    </tr>\n",
              "  </tbody>\n",
              "</table>\n",
              "</div>"
            ]
          },
          "metadata": {
            "tags": []
          },
          "execution_count": 28
        }
      ]
    },
    {
      "cell_type": "markdown",
      "metadata": {
        "id": "u-lTgqFDeqyd"
      },
      "source": [
        "Grouping the datset by month, shop id and Item id and naming it month dataset\r\n"
      ]
    },
    {
      "cell_type": "code",
      "metadata": {
        "id": "4uEBn4IxhFqA"
      },
      "source": [
        "# Grouping data by month, shop id and Item ID\r\n",
        "month = master_data.groupby(['date_block_num','shop_id','item_id']).agg({'item_price':'mean','item_cnt_day':'sum'}).reset_index()"
      ],
      "execution_count": 29,
      "outputs": []
    },
    {
      "cell_type": "code",
      "metadata": {
        "id": "RfRcjI0YhG3C"
      },
      "source": [
        "# Combining the data frames\r\n",
        "\r\n",
        "# Merge data with item \r\n",
        "month = pd.merge(month,items_df,how='left',on='item_id')\r\n",
        "\r\n",
        "# Merge data with item categories \r\n",
        "month = pd.merge(month, item_cat_df,how='left',on='item_category_id')\r\n",
        "\r\n",
        "# merge data with shops\r\n",
        "\r\n",
        "month = pd.merge(month, shops_df, how='left',on='shop_id')"
      ],
      "execution_count": 31,
      "outputs": []
    },
    {
      "cell_type": "code",
      "metadata": {
        "id": "rV_wFuZQhL0b",
        "colab": {
          "base_uri": "https://localhost:8080/"
        },
        "outputId": "864f09a4-642c-4475-a071-4ace02ac719e"
      },
      "source": [
        "# lets look at the size and shape of month data \r\n",
        "print(\" Shape: \", month.shape)\r\n",
        "print(\"  Size: \", month.size)"
      ],
      "execution_count": 32,
      "outputs": [
        {
          "output_type": "stream",
          "text": [
            " Shape:  (1609124, 10)\n",
            "  Size:  16091240\n"
          ],
          "name": "stdout"
        }
      ]
    },
    {
      "cell_type": "code",
      "metadata": {
        "id": "QI7iZl1phPof"
      },
      "source": [
        "# Create a new colums called total sales \r\n",
        "month['tota_sales'] = month['item_price']*month['item_cnt_day']"
      ],
      "execution_count": 33,
      "outputs": []
    },
    {
      "cell_type": "code",
      "metadata": {
        "id": "InRqElP-hVmh",
        "colab": {
          "base_uri": "https://localhost:8080/",
          "height": 637
        },
        "outputId": "3f51446a-2509-4922-deae-a6eeaa96ea38"
      },
      "source": [
        "# Plot a line graph to show the monthly sales \r\n",
        "plt.figure(figsize = (18,10))\r\n",
        "plt.title('# Monthly sales', fontsize=24)\r\n",
        "ax = sns.lineplot(x='date_block_num', y='tota_sales', data=month, estimator=np.sum)\r\n",
        "ax = ax.set(xlabel='Date Block', ylabel='Total Sales')\r\n",
        "plt.xticks(rotation=45)\r\n",
        "\r\n",
        "plt.show() "
      ],
      "execution_count": 34,
      "outputs": [
        {
          "output_type": "display_data",
          "data": {
            "text/plain": [
              "<Figure size 1296x720 with 1 Axes>"
            ],
            "image/png": "[encoded data removed]"
          },
          "metadata": {
            "tags": [],
            "needs_background": "light"
          }
        }
      ]
    },
    {
      "cell_type": "code",
      "metadata": {
        "id": "lQ2sdv8ThWdO"
      },
      "source": [
        "# Create a column called month\r\n",
        "month['month']= month['date_block_num'].apply(lambda month: (month+1)%12)"
      ],
      "execution_count": 35,
      "outputs": []
    },
    {
      "cell_type": "code",
      "metadata": {
        "id": "KJvQ7iF0hZ0S",
        "colab": {
          "base_uri": "https://localhost:8080/"
        },
        "outputId": "b2673fa9-ead3-4442-dc2f-85198715b6e3"
      },
      "source": [
        "# Dummifying categorical columns \r\n",
        "\r\n",
        "# First let us work on shop \r\n",
        "month = pd.concat([month, pd.get_dummies(month['shop_id'],drop_first=True, prefix='shop_')], axis=1)\r\n",
        "\r\n",
        "# Let us work on type \r\n",
        "\r\n",
        "month = pd.concat([month, pd.get_dummies(month['type'],drop_first=True, prefix='type')], axis=1)\r\n",
        "\r\n",
        "# Finally work on sub type \r\n",
        "\r\n",
        "month = pd.concat([month, pd.get_dummies(month['sub_type'],drop_first=True, prefix='sub_type')], axis=1)\r\n",
        "\r\n",
        "# lets look at the size and shape of month data \r\n",
        "print(\" Shape: \", month.shape)\r\n",
        "print(\"  Size: \", month.size)"
      ],
      "execution_count": 36,
      "outputs": [
        {
          "output_type": "stream",
          "text": [
            " Shape:  (1609124, 154)\n",
            "  Size:  247805096\n"
          ],
          "name": "stdout"
        }
      ]
    },
    {
      "cell_type": "code",
      "metadata": {
        "colab": {
          "base_uri": "https://localhost:8080/",
          "height": 479
        },
        "id": "Vr8xTyy-CgcZ",
        "outputId": "863aac2b-dc4c-41a2-a3ee-5063afe6b1da"
      },
      "source": [
        "month.head()"
      ],
      "execution_count": 44,
      "outputs": [
        {
          "output_type": "execute_result",
          "data": {
            "text/plain": [
              "   date_block_num  shop_id  item_id  item_price  item_cnt_day  \\\n",
              "0               0        0       32       221.0           6.0   \n",
              "1               0        0       33       347.0           3.0   \n",
              "2               0        0       35       247.0           1.0   \n",
              "3               0        0       43       221.0           1.0   \n",
              "4               0        0       51       128.5           2.0   \n",
              "\n",
              "                                           item_name  item_category_id  \\\n",
              "0                                                1+1                40   \n",
              "1                                           1+1 (BD)                37   \n",
              "2                                      10 ЛЕТ СПУСТЯ                40   \n",
              "3                                 100 МИЛЛИОНОВ ЕВРО                40   \n",
              "4  100 лучших произведений классики (mp3-CD) (Dig...                57   \n",
              "\n",
              "     type sub_type                      shop_name  ...  \\\n",
              "0    Кино      DVD  !Якутск Орджоникидзе, 56 фран  ...   \n",
              "1    Кино      Blu  !Якутск Орджоникидзе, 56 фран  ...   \n",
              "2    Кино      DVD  !Якутск Орджоникидзе, 56 фран  ...   \n",
              "3    Кино      DVD  !Якутск Орджоникидзе, 56 фран  ...   \n",
              "4  Музыка      MP3  !Якутск Орджоникидзе, 56 фран  ...   \n",
              "\n",
              "   sub_type_Стандартные издания  sub_type_Сувениры  \\\n",
              "0                             0                  0   \n",
              "1                             0                  0   \n",
              "2                             0                  0   \n",
              "3                             0                  0   \n",
              "4                             0                  0   \n",
              "\n",
              "   sub_type_Сувениры (в навеску)  sub_type_Сумки, Альбомы, Коврики д/мыши  \\\n",
              "0                              0                                        0   \n",
              "1                              0                                        0   \n",
              "2                              0                                        0   \n",
              "3                              0                                        0   \n",
              "4                              0                                        0   \n",
              "\n",
              "   sub_type_Фигурки  sub_type_Художественная литература  sub_type_Цифра  \\\n",
              "0                 0                                   0               0   \n",
              "1                 0                                   0               0   \n",
              "2                 0                                   0               0   \n",
              "3                 0                                   0               0   \n",
              "4                 0                                   0               0   \n",
              "\n",
              "   sub_type_Чистые носители (шпиль)  sub_type_Чистые носители (штучные)  \\\n",
              "0                                 0                                   0   \n",
              "1                                 0                                   0   \n",
              "2                                 0                                   0   \n",
              "3                                 0                                   0   \n",
              "4                                 0                                   0   \n",
              "\n",
              "   sub_type_Элементы питания  \n",
              "0                          0  \n",
              "1                          0  \n",
              "2                          0  \n",
              "3                          0  \n",
              "4                          0  \n",
              "\n",
              "[5 rows x 154 columns]"
            ],
            "text/html": [
              "<div>\n",
              "<style scoped>\n",
              "    .dataframe tbody tr th:only-of-type {\n",
              "        vertical-align: middle;\n",
              "    }\n",
              "\n",
              "    .dataframe tbody tr th {\n",
              "        vertical-align: top;\n",
              "    }\n",
              "\n",
              "    .dataframe thead th {\n",
              "        text-align: right;\n",
              "    }\n",
              "</style>\n",
              "<table border=\"1\" class=\"dataframe\">\n",
              "  <thead>\n",
              "    <tr style=\"text-align: right;\">\n",
              "      <th></th>\n",
              "      <th>date_block_num</th>\n",
              "      <th>shop_id</th>\n",
              "      <th>item_id</th>\n",
              "      <th>item_price</th>\n",
              "      <th>item_cnt_day</th>\n",
              "      <th>item_name</th>\n",
              "      <th>item_category_id</th>\n",
              "      <th>type</th>\n",
              "      <th>sub_type</th>\n",
              "      <th>shop_name</th>\n",
              "      <th>...</th>\n",
              "      <th>sub_type_Стандартные издания</th>\n",
              "      <th>sub_type_Сувениры</th>\n",
              "      <th>sub_type_Сувениры (в навеску)</th>\n",
              "      <th>sub_type_Сумки, Альбомы, Коврики д/мыши</th>\n",
              "      <th>sub_type_Фигурки</th>\n",
              "      <th>sub_type_Художественная литература</th>\n",
              "      <th>sub_type_Цифра</th>\n",
              "      <th>sub_type_Чистые носители (шпиль)</th>\n",
              "      <th>sub_type_Чистые носители (штучные)</th>\n",
              "      <th>sub_type_Элементы питания</th>\n",
              "    </tr>\n",
              "  </thead>\n",
              "  <tbody>\n",
              "    <tr>\n",
              "      <th>0</th>\n",
              "      <td>0</td>\n",
              "      <td>0</td>\n",
              "      <td>32</td>\n",
              "      <td>221.0</td>\n",
              "      <td>6.0</td>\n",
              "      <td>1+1</td>\n",
              "      <td>40</td>\n",
              "      <td>Кино</td>\n",
              "      <td>DVD</td>\n",
              "      <td>!Якутск Орджоникидзе, 56 фран</td>\n",
              "      <td>...</td>\n",
              "      <td>0</td>\n",
              "      <td>0</td>\n",
              "      <td>0</td>\n",
              "      <td>0</td>\n",
              "      <td>0</td>\n",
              "      <td>0</td>\n",
              "      <td>0</td>\n",
              "      <td>0</td>\n",
              "      <td>0</td>\n",
              "      <td>0</td>\n",
              "    </tr>\n",
              "    <tr>\n",
              "      <th>1</th>\n",
              "      <td>0</td>\n",
              "      <td>0</td>\n",
              "      <td>33</td>\n",
              "      <td>347.0</td>\n",
              "      <td>3.0</td>\n",
              "      <td>1+1 (BD)</td>\n",
              "      <td>37</td>\n",
              "      <td>Кино</td>\n",
              "      <td>Blu</td>\n",
              "      <td>!Якутск Орджоникидзе, 56 фран</td>\n",
              "      <td>...</td>\n",
              "      <td>0</td>\n",
              "      <td>0</td>\n",
              "      <td>0</td>\n",
              "      <td>0</td>\n",
              "      <td>0</td>\n",
              "      <td>0</td>\n",
              "      <td>0</td>\n",
              "      <td>0</td>\n",
              "      <td>0</td>\n",
              "      <td>0</td>\n",
              "    </tr>\n",
              "    <tr>\n",
              "      <th>2</th>\n",
              "      <td>0</td>\n",
              "      <td>0</td>\n",
              "      <td>35</td>\n",
              "      <td>247.0</td>\n",
              "      <td>1.0</td>\n",
              "      <td>10 ЛЕТ СПУСТЯ</td>\n",
              "      <td>40</td>\n",
              "      <td>Кино</td>\n",
              "      <td>DVD</td>\n",
              "      <td>!Якутск Орджоникидзе, 56 фран</td>\n",
              "      <td>...</td>\n",
              "      <td>0</td>\n",
              "      <td>0</td>\n",
              "      <td>0</td>\n",
              "      <td>0</td>\n",
              "      <td>0</td>\n",
              "      <td>0</td>\n",
              "      <td>0</td>\n",
              "      <td>0</td>\n",
              "      <td>0</td>\n",
              "      <td>0</td>\n",
              "    </tr>\n",
              "    <tr>\n",
              "      <th>3</th>\n",
              "      <td>0</td>\n",
              "      <td>0</td>\n",
              "      <td>43</td>\n",
              "      <td>221.0</td>\n",
              "      <td>1.0</td>\n",
              "      <td>100 МИЛЛИОНОВ ЕВРО</td>\n",
              "      <td>40</td>\n",
              "      <td>Кино</td>\n",
              "      <td>DVD</td>\n",
              "      <td>!Якутск Орджоникидзе, 56 фран</td>\n",
              "      <td>...</td>\n",
              "      <td>0</td>\n",
              "      <td>0</td>\n",
              "      <td>0</td>\n",
              "      <td>0</td>\n",
              "      <td>0</td>\n",
              "      <td>0</td>\n",
              "      <td>0</td>\n",
              "      <td>0</td>\n",
              "      <td>0</td>\n",
              "      <td>0</td>\n",
              "    </tr>\n",
              "    <tr>\n",
              "      <th>4</th>\n",
              "      <td>0</td>\n",
              "      <td>0</td>\n",
              "      <td>51</td>\n",
              "      <td>128.5</td>\n",
              "      <td>2.0</td>\n",
              "      <td>100 лучших произведений классики (mp3-CD) (Dig...</td>\n",
              "      <td>57</td>\n",
              "      <td>Музыка</td>\n",
              "      <td>MP3</td>\n",
              "      <td>!Якутск Орджоникидзе, 56 фран</td>\n",
              "      <td>...</td>\n",
              "      <td>0</td>\n",
              "      <td>0</td>\n",
              "      <td>0</td>\n",
              "      <td>0</td>\n",
              "      <td>0</td>\n",
              "      <td>0</td>\n",
              "      <td>0</td>\n",
              "      <td>0</td>\n",
              "      <td>0</td>\n",
              "      <td>0</td>\n",
              "    </tr>\n",
              "  </tbody>\n",
              "</table>\n",
              "<p>5 rows × 154 columns</p>\n",
              "</div>"
            ]
          },
          "metadata": {
            "tags": []
          },
          "execution_count": 44
        }
      ]
    },
    {
      "cell_type": "code",
      "metadata": {
        "id": "4o73RvxErxe0"
      },
      "source": [
        "# Getting the names of feature columns for shop, type and sub_type \r\n",
        "\r\n",
        "# Defining shop column \r\n",
        "\r\n",
        "shop_col = [col for col in month.columns if 'shop__' in col]\r\n",
        "\r\n",
        "# Defining type column \r\n",
        "\r\n",
        "type_col = [col for col in month.columns if 'type_' in col]\r\n",
        "\r\n",
        "# Defining sub_type column \r\n",
        "\r\n",
        "sub_type_col = [ col for col in month.columns if 'sub_type_' in col]"
      ],
      "execution_count": 56,
      "outputs": []
    },
    {
      "cell_type": "code",
      "metadata": {
        "id": "gd6woxyuryqg"
      },
      "source": [
        "# defining features and target\r\n",
        "features = ['month', 'shop_id', 'item_id', 'item_price'] + type_col + sub_type_col\r\n",
        "targets = ['item_cnt_day']"
      ],
      "execution_count": 45,
      "outputs": []
    },
    {
      "cell_type": "code",
      "metadata": {
        "id": "Y1sQ94rnEw_g"
      },
      "source": [
        "# Defining features and target \r\n",
        "features = ['month', 'shop_id','item_id', 'item_price'] + type_col + sub_type_col\r\n",
        "target = ['item_cnt_day']\r\n"
      ],
      "execution_count": 57,
      "outputs": []
    },
    {
      "cell_type": "code",
      "metadata": {
        "id": "dTJrVO2RsWNE"
      },
      "source": [
        "# Setup for feature and target variable\r\n",
        "X_feature = month[features].fillna(value=0)\r\n",
        "Y_target = month[target].fillna(value=0)\r\n",
        "\r\n",
        "# Split and train and test \r\n",
        "X_train, X_test, Y_train, Y_test = train_test_split(X_feature, Y_target, test_size=0.3, random_state=0)"
      ],
      "execution_count": 59,
      "outputs": []
    },
    {
      "cell_type": "code",
      "metadata": {
        "id": "VjECsgGotrxB",
        "colab": {
          "base_uri": "https://localhost:8080/"
        },
        "outputId": "be0faf15-06b8-483e-cdbc-08a5ab3890b2"
      },
      "source": [
        "# Fitting Linear Regression Model \r\n",
        "\r\n",
        "# Get lr function by importing from sklearn \r\n",
        "from sklearn.linear_model import LinearRegression\r\n",
        "lr = LinearRegression()\r\n",
        "\r\n",
        "# Fit the lr model on the training data \r\n",
        "\r\n",
        "lr.fit(X_train,Y_train)"
      ],
      "execution_count": 60,
      "outputs": [
        {
          "output_type": "execute_result",
          "data": {
            "text/plain": [
              "LinearRegression()"
            ]
          },
          "metadata": {
            "tags": []
          },
          "execution_count": 60
        }
      ]
    },
    {
      "cell_type": "code",
      "metadata": {
        "colab": {
          "base_uri": "https://localhost:8080/"
        },
        "id": "8_DaXWZaEHQ_",
        "outputId": "83ad3656-51ef-4ba2-bb8e-1a1737bc92d0"
      },
      "source": [
        "lr.score(X_train,Y_train)"
      ],
      "execution_count": 62,
      "outputs": [
        {
          "output_type": "execute_result",
          "data": {
            "text/plain": [
              "0.2426584703435628"
            ]
          },
          "metadata": {
            "tags": []
          },
          "execution_count": 62
        }
      ]
    },
    {
      "cell_type": "code",
      "metadata": {
        "colab": {
          "base_uri": "https://localhost:8080/",
          "height": 402
        },
        "id": "ff5nI4bNdMma",
        "outputId": "7951afeb-9f5f-4c3b-8de1-41a538d3af9d"
      },
      "source": [
        "test_df.fillna(0)"
      ],
      "execution_count": 63,
      "outputs": [
        {
          "output_type": "execute_result",
          "data": {
            "text/plain": [
              "            ID  shop_id  item_id\n",
              "0            0        5     5037\n",
              "1            1        5     5320\n",
              "2            2        5     5233\n",
              "3            3        5     5232\n",
              "4            4        5     5268\n",
              "...        ...      ...      ...\n",
              "214195  214195       45    18454\n",
              "214196  214196       45    16188\n",
              "214197  214197       45    15757\n",
              "214198  214198       45    19648\n",
              "214199  214199       45      969\n",
              "\n",
              "[214200 rows x 3 columns]"
            ],
            "text/html": [
              "<div>\n",
              "<style scoped>\n",
              "    .dataframe tbody tr th:only-of-type {\n",
              "        vertical-align: middle;\n",
              "    }\n",
              "\n",
              "    .dataframe tbody tr th {\n",
              "        vertical-align: top;\n",
              "    }\n",
              "\n",
              "    .dataframe thead th {\n",
              "        text-align: right;\n",
              "    }\n",
              "</style>\n",
              "<table border=\"1\" class=\"dataframe\">\n",
              "  <thead>\n",
              "    <tr style=\"text-align: right;\">\n",
              "      <th></th>\n",
              "      <th>ID</th>\n",
              "      <th>shop_id</th>\n",
              "      <th>item_id</th>\n",
              "    </tr>\n",
              "  </thead>\n",
              "  <tbody>\n",
              "    <tr>\n",
              "      <th>0</th>\n",
              "      <td>0</td>\n",
              "      <td>5</td>\n",
              "      <td>5037</td>\n",
              "    </tr>\n",
              "    <tr>\n",
              "      <th>1</th>\n",
              "      <td>1</td>\n",
              "      <td>5</td>\n",
              "      <td>5320</td>\n",
              "    </tr>\n",
              "    <tr>\n",
              "      <th>2</th>\n",
              "      <td>2</td>\n",
              "      <td>5</td>\n",
              "      <td>5233</td>\n",
              "    </tr>\n",
              "    <tr>\n",
              "      <th>3</th>\n",
              "      <td>3</td>\n",
              "      <td>5</td>\n",
              "      <td>5232</td>\n",
              "    </tr>\n",
              "    <tr>\n",
              "      <th>4</th>\n",
              "      <td>4</td>\n",
              "      <td>5</td>\n",
              "      <td>5268</td>\n",
              "    </tr>\n",
              "    <tr>\n",
              "      <th>...</th>\n",
              "      <td>...</td>\n",
              "      <td>...</td>\n",
              "      <td>...</td>\n",
              "    </tr>\n",
              "    <tr>\n",
              "      <th>214195</th>\n",
              "      <td>214195</td>\n",
              "      <td>45</td>\n",
              "      <td>18454</td>\n",
              "    </tr>\n",
              "    <tr>\n",
              "      <th>214196</th>\n",
              "      <td>214196</td>\n",
              "      <td>45</td>\n",
              "      <td>16188</td>\n",
              "    </tr>\n",
              "    <tr>\n",
              "      <th>214197</th>\n",
              "      <td>214197</td>\n",
              "      <td>45</td>\n",
              "      <td>15757</td>\n",
              "    </tr>\n",
              "    <tr>\n",
              "      <th>214198</th>\n",
              "      <td>214198</td>\n",
              "      <td>45</td>\n",
              "      <td>19648</td>\n",
              "    </tr>\n",
              "    <tr>\n",
              "      <th>214199</th>\n",
              "      <td>214199</td>\n",
              "      <td>45</td>\n",
              "      <td>969</td>\n",
              "    </tr>\n",
              "  </tbody>\n",
              "</table>\n",
              "<p>214200 rows × 3 columns</p>\n",
              "</div>"
            ]
          },
          "metadata": {
            "tags": []
          },
          "execution_count": 63
        }
      ]
    },
    {
      "cell_type": "markdown",
      "metadata": {
        "id": "KCMc0BFhgnY-"
      },
      "source": [
        "making changes in test dataset"
      ]
    },
    {
      "cell_type": "code",
      "metadata": {
        "id": "vAT3rdAqgwuQ"
      },
      "source": [
        "test_df['date_num_block'] = 34\r\n",
        "test_df['month'] = 11"
      ],
      "execution_count": 65,
      "outputs": []
    },
    {
      "cell_type": "code",
      "metadata": {
        "id": "KssPWLsGgxJx"
      },
      "source": [
        "item_price = month[['item_id', 'item_price']].groupby('item_id')['item_price'].mean().reset_index()"
      ],
      "execution_count": 67,
      "outputs": []
    },
    {
      "cell_type": "code",
      "metadata": {
        "id": "w1T_HY2dgzix"
      },
      "source": [
        "# merge the test dataframe\r\n",
        "\r\n",
        "# merge test and item price dataframes\r\n",
        "test_df = pd.merge(test_df, item_price, how='left', on = 'item_id')\r\n",
        "\r\n",
        "# merge test and items dataframes\r\n",
        "test_df = pd.merge(test_df, items_df, how='left', on = 'item_id')\r\n",
        "\r\n",
        "# merge test and item categories dataframes\r\n",
        "test_df = pd.merge(test_df, item_cat_df, how='left', on = 'item_category_id')\r\n",
        "\r\n",
        "# merge test and shops datasets\r\n",
        "test_df = pd.merge(test_df, shops_df, how= 'left', on = 'shop_id')\r\n"
      ],
      "execution_count": 68,
      "outputs": []
    },
    {
      "cell_type": "code",
      "metadata": {
        "id": "EXkQruTwxVOP"
      },
      "source": [
        "# Dummifying the categorical columns to get the test on shop, type and sub_type \r\n",
        "\r\n",
        "# Creating dummies for shop \r\n",
        "df_test = pd.concat([test_df, pd.get_dummies(test_df['shop_id'], drop_first=True, prefix='shop_')], axis=1)\r\n",
        "\r\n",
        "## Creating dummies for type\r\n",
        "df_test = pd.concat([test_df, pd.get_dummies(test_df['type'], drop_first=True, prefix='type')], axis=1)\r\n",
        "\r\n",
        "## Creating dummies for sub_type\r\n",
        "df_test = pd.concat([test_df, pd.get_dummies(test_df['sub_type'], drop_first=True, prefix='sub_type')], axis=1)"
      ],
      "execution_count": 81,
      "outputs": []
    },
    {
      "cell_type": "code",
      "metadata": {
        "id": "7EH_03KRxrJf"
      },
      "source": [
        "# Getting the names of the feature columns\r\n",
        "\r\n",
        "# Collecting shop feature names\r\n",
        "df_test_shop_col = [col for col in df_test.columns if 'shop__' in col]\r\n",
        "\r\n",
        "# Collecting type feature names\r\n",
        "df_test_type_col = [col for col in df_test.columns if 'type_' in col]\r\n",
        "\r\n",
        "# Collecting sub_type feature names\r\n",
        "df_test_sub_type_col = [col for col in df_test.columns if 'sub_type_' in col]"
      ],
      "execution_count": 82,
      "outputs": []
    },
    {
      "cell_type": "code",
      "metadata": {
        "id": "oFZiWgckxs95"
      },
      "source": [
        "# Creating features for test data \r\n",
        "df_test_features = ['month', 'item_id' + 'shop_id', 'item_price'] + df_test_type_col + df_test_sub_type_col\r\n"
      ],
      "execution_count": 83,
      "outputs": []
    },
    {
      "cell_type": "code",
      "metadata": {
        "colab": {
          "base_uri": "https://localhost:8080/"
        },
        "id": "Cl1Ixer7YdE7",
        "outputId": "ebb24dee-5b2c-4c9f-dc24-8c3cc09dacd4"
      },
      "source": [
        "#getting common features \r\n",
        "common_features = list(set(features) & set(df_test_features)) \r\n",
        "print(f\"Number of common features: {len(common_features)}\")"
      ],
      "execution_count": 88,
      "outputs": [
        {
          "output_type": "stream",
          "text": [
            "Number of common features: 50\n"
          ],
          "name": "stdout"
        }
      ]
    },
    {
      "cell_type": "code",
      "metadata": {
        "colab": {
          "base_uri": "https://localhost:8080/"
        },
        "id": "yKxOxk1Ig0W5",
        "outputId": "fe9aa7ca-4bab-4142-bef7-bd769b4adb73"
      },
      "source": [
        "# verify if the item_price is available in common features \r\n",
        "'item_price' in common_features"
      ],
      "execution_count": 89,
      "outputs": [
        {
          "output_type": "execute_result",
          "data": {
            "text/plain": [
              "True"
            ]
          },
          "metadata": {
            "tags": []
          },
          "execution_count": 89
        }
      ]
    },
    {
      "cell_type": "code",
      "metadata": {
        "id": "72tDcKT3g1BE"
      },
      "source": [
        "# Preparing data for modeling\r\n",
        "\r\n",
        "# Setting feature and target variables\r\n",
        "X = month[common_features].fillna(value=0)\r\n",
        "y = month[target].fillna(value=0)\r\n",
        "\r\n",
        "## Splitting train and test\r\n",
        "X_train, X_test, y_train, y_test = train_test_split(X, y, test_size=0.3, random_state=0)"
      ],
      "execution_count": 91,
      "outputs": []
    },
    {
      "cell_type": "code",
      "metadata": {
        "colab": {
          "base_uri": "https://localhost:8080/"
        },
        "id": "HgbWxzrMg1rG",
        "outputId": "d3a1f417-0e66-448b-bb32-fbe7db14a4e9"
      },
      "source": [
        "## Getting LR function\r\n",
        "from sklearn.linear_model import LinearRegression\r\n",
        "lr = LinearRegression()\r\n",
        "\r\n",
        "## Fitting on training data\r\n",
        "lr.fit(X_train, y_train)"
      ],
      "execution_count": 92,
      "outputs": [
        {
          "output_type": "execute_result",
          "data": {
            "text/plain": [
              "LinearRegression()"
            ]
          },
          "metadata": {
            "tags": []
          },
          "execution_count": 92
        }
      ]
    },
    {
      "cell_type": "code",
      "metadata": {
        "colab": {
          "base_uri": "https://localhost:8080/"
        },
        "id": "lZDBwCavg2ko",
        "outputId": "34f57848-aace-4822-fe89-9b1a66f8352a"
      },
      "source": [
        "lr.score(X_test, y_test)\r\n"
      ],
      "execution_count": 93,
      "outputs": [
        {
          "output_type": "execute_result",
          "data": {
            "text/plain": [
              "0.24903894955725325"
            ]
          },
          "metadata": {
            "tags": []
          },
          "execution_count": 93
        }
      ]
    },
    {
      "cell_type": "code",
      "metadata": {
        "id": "kAwfGBp9hZrn"
      },
      "source": [
        "test_df = test_df.fillna(0)"
      ],
      "execution_count": 94,
      "outputs": []
    },
    {
      "cell_type": "code",
      "metadata": {
        "colab": {
          "base_uri": "https://localhost:8080/",
          "height": 632
        },
        "id": "889KzpsThfoR",
        "outputId": "1c600d8f-bcea-479b-9dec-b762691b858a"
      },
      "source": [
        "lr.predict(test_df[common_features])"
      ],
      "execution_count": 95,
      "outputs": [
        {
          "output_type": "error",
          "ename": "KeyError",
          "evalue": "ignored",
          "traceback": [
            "\u001b[1;31m---------------------------------------------------------------------------\u001b[0m",
            "\u001b[1;31mKeyError\u001b[0m                                  Traceback (most recent call last)",
            "\u001b[1;32m<ipython-input-95-2c33078c47d8>\u001b[0m in \u001b[0;36m<module>\u001b[1;34m\u001b[0m\n\u001b[1;32m----> 1\u001b[1;33m \u001b[0mlr\u001b[0m\u001b[1;33m.\u001b[0m\u001b[0mpredict\u001b[0m\u001b[1;33m(\u001b[0m\u001b[0mtest_df\u001b[0m\u001b[1;33m[\u001b[0m\u001b[0mcommon_features\u001b[0m\u001b[1;33m]\u001b[0m\u001b[1;33m)\u001b[0m\u001b[1;33m\u001b[0m\u001b[1;33m\u001b[0m\u001b[0m\n\u001b[0m",
            "\u001b[1;32m~\\anaconda3\\lib\\site-packages\\pandas\\core\\frame.py\u001b[0m in \u001b[0;36m__getitem__\u001b[1;34m(self, key)\u001b[0m\n\u001b[0;32m   2906\u001b[0m             \u001b[1;32mif\u001b[0m \u001b[0mis_iterator\u001b[0m\u001b[1;33m(\u001b[0m\u001b[0mkey\u001b[0m\u001b[1;33m)\u001b[0m\u001b[1;33m:\u001b[0m\u001b[1;33m\u001b[0m\u001b[1;33m\u001b[0m\u001b[0m\n\u001b[0;32m   2907\u001b[0m                 \u001b[0mkey\u001b[0m \u001b[1;33m=\u001b[0m \u001b[0mlist\u001b[0m\u001b[1;33m(\u001b[0m\u001b[0mkey\u001b[0m\u001b[1;33m)\u001b[0m\u001b[1;33m\u001b[0m\u001b[1;33m\u001b[0m\u001b[0m\n\u001b[1;32m-> 2908\u001b[1;33m             \u001b[0mindexer\u001b[0m \u001b[1;33m=\u001b[0m \u001b[0mself\u001b[0m\u001b[1;33m.\u001b[0m\u001b[0mloc\u001b[0m\u001b[1;33m.\u001b[0m\u001b[0m_get_listlike_indexer\u001b[0m\u001b[1;33m(\u001b[0m\u001b[0mkey\u001b[0m\u001b[1;33m,\u001b[0m \u001b[0maxis\u001b[0m\u001b[1;33m=\u001b[0m\u001b[1;36m1\u001b[0m\u001b[1;33m,\u001b[0m \u001b[0mraise_missing\u001b[0m\u001b[1;33m=\u001b[0m\u001b[1;32mTrue\u001b[0m\u001b[1;33m)\u001b[0m\u001b[1;33m[\u001b[0m\u001b[1;36m1\u001b[0m\u001b[1;33m]\u001b[0m\u001b[1;33m\u001b[0m\u001b[1;33m\u001b[0m\u001b[0m\n\u001b[0m\u001b[0;32m   2909\u001b[0m \u001b[1;33m\u001b[0m\u001b[0m\n\u001b[0;32m   2910\u001b[0m         \u001b[1;31m# take() does not accept boolean indexers\u001b[0m\u001b[1;33m\u001b[0m\u001b[1;33m\u001b[0m\u001b[1;33m\u001b[0m\u001b[0m\n",
            "\u001b[1;32m~\\anaconda3\\lib\\site-packages\\pandas\\core\\indexing.py\u001b[0m in \u001b[0;36m_get_listlike_indexer\u001b[1;34m(self, key, axis, raise_missing)\u001b[0m\n\u001b[0;32m   1252\u001b[0m             \u001b[0mkeyarr\u001b[0m\u001b[1;33m,\u001b[0m \u001b[0mindexer\u001b[0m\u001b[1;33m,\u001b[0m \u001b[0mnew_indexer\u001b[0m \u001b[1;33m=\u001b[0m \u001b[0max\u001b[0m\u001b[1;33m.\u001b[0m\u001b[0m_reindex_non_unique\u001b[0m\u001b[1;33m(\u001b[0m\u001b[0mkeyarr\u001b[0m\u001b[1;33m)\u001b[0m\u001b[1;33m\u001b[0m\u001b[1;33m\u001b[0m\u001b[0m\n\u001b[0;32m   1253\u001b[0m \u001b[1;33m\u001b[0m\u001b[0m\n\u001b[1;32m-> 1254\u001b[1;33m         \u001b[0mself\u001b[0m\u001b[1;33m.\u001b[0m\u001b[0m_validate_read_indexer\u001b[0m\u001b[1;33m(\u001b[0m\u001b[0mkeyarr\u001b[0m\u001b[1;33m,\u001b[0m \u001b[0mindexer\u001b[0m\u001b[1;33m,\u001b[0m \u001b[0maxis\u001b[0m\u001b[1;33m,\u001b[0m \u001b[0mraise_missing\u001b[0m\u001b[1;33m=\u001b[0m\u001b[0mraise_missing\u001b[0m\u001b[1;33m)\u001b[0m\u001b[1;33m\u001b[0m\u001b[1;33m\u001b[0m\u001b[0m\n\u001b[0m\u001b[0;32m   1255\u001b[0m         \u001b[1;32mreturn\u001b[0m \u001b[0mkeyarr\u001b[0m\u001b[1;33m,\u001b[0m \u001b[0mindexer\u001b[0m\u001b[1;33m\u001b[0m\u001b[1;33m\u001b[0m\u001b[0m\n\u001b[0;32m   1256\u001b[0m \u001b[1;33m\u001b[0m\u001b[0m\n",
            "\u001b[1;32m~\\anaconda3\\lib\\site-packages\\pandas\\core\\indexing.py\u001b[0m in \u001b[0;36m_validate_read_indexer\u001b[1;34m(self, key, indexer, axis, raise_missing)\u001b[0m\n\u001b[0;32m   1302\u001b[0m             \u001b[1;32mif\u001b[0m \u001b[0mraise_missing\u001b[0m\u001b[1;33m:\u001b[0m\u001b[1;33m\u001b[0m\u001b[1;33m\u001b[0m\u001b[0m\n\u001b[0;32m   1303\u001b[0m                 \u001b[0mnot_found\u001b[0m \u001b[1;33m=\u001b[0m \u001b[0mlist\u001b[0m\u001b[1;33m(\u001b[0m\u001b[0mset\u001b[0m\u001b[1;33m(\u001b[0m\u001b[0mkey\u001b[0m\u001b[1;33m)\u001b[0m \u001b[1;33m-\u001b[0m \u001b[0mset\u001b[0m\u001b[1;33m(\u001b[0m\u001b[0max\u001b[0m\u001b[1;33m)\u001b[0m\u001b[1;33m)\u001b[0m\u001b[1;33m\u001b[0m\u001b[1;33m\u001b[0m\u001b[0m\n\u001b[1;32m-> 1304\u001b[1;33m                 \u001b[1;32mraise\u001b[0m \u001b[0mKeyError\u001b[0m\u001b[1;33m(\u001b[0m\u001b[1;34mf\"{not_found} not in index\"\u001b[0m\u001b[1;33m)\u001b[0m\u001b[1;33m\u001b[0m\u001b[1;33m\u001b[0m\u001b[0m\n\u001b[0m\u001b[0;32m   1305\u001b[0m \u001b[1;33m\u001b[0m\u001b[0m\n\u001b[0;32m   1306\u001b[0m             \u001b[1;31m# we skip the warning on Categorical\u001b[0m\u001b[1;33m\u001b[0m\u001b[1;33m\u001b[0m\u001b[1;33m\u001b[0m\u001b[0m\n",
            "\u001b[1;31mKeyError\u001b[0m: \"['sub_type_Сувениры', 'sub_type_DVD', 'sub_type_Доставка товара', 'sub_type_CD локального производства', 'sub_type_CD фирменного производства', 'sub_type_Live!', 'sub_type_Для дома и офиса', 'sub_type_Live! (Цифра)', 'sub_type_MP3', 'sub_type_Blu', 'sub_type_Коллекционное', 'sub_type_Дополнительные издания', 'sub_type_Мягкие игрушки', 'sub_type_Windows (Цифра)', 'sub_type_PS4', 'sub_type_Сумки, Альбомы, Коврики д/мыши', 'sub_type_Гаджеты, роботы, спорт', 'sub_type_XBOX ONE', 'sub_type_Методические материалы 1С', 'sub_type_Обучающие', 'sub_type_PSVita', 'sub_type_Аудиокниги', 'sub_type_Служебные', 'sub_type_Аудиокниги 1С', 'sub_type_Цифра', 'sub_type_PSN', 'sub_type_Аудиокниги (Цифра)', 'sub_type_Для дома и офиса (Цифра)', 'sub_type_Настольные игры', 'sub_type_Подарочные издания', 'sub_type_XBOX 360', 'sub_type_Развитие', 'sub_type_Комиксы, манга', 'sub_type_Артбуки, энциклопедии', 'sub_type_PSP', 'sub_type_Настольные игры (компактные)', 'sub_type_Гарнитуры/Наушники', 'sub_type_Коллекционные издания', 'sub_type_Винил', 'sub_type_Фигурки', 'sub_type_Элементы питания', 'sub_type_PS3', 'sub_type_Обучающие (Цифра)', 'sub_type_Атрибутика', 'sub_type_Аксессуары для игр', 'sub_type_Стандартные издания', 'sub_type_Сувениры (в навеску)', 'sub_type_MAC (Цифра)'] not in index\""
          ]
        }
      ]
    },
    {
      "cell_type": "code",
      "metadata": {
        "colab": {
          "base_uri": "https://localhost:8080/",
          "height": 632
        },
        "id": "1JAN_A_1hjtF",
        "outputId": "289d878b-24f6-49c8-b3cb-cc86d9e5b14d"
      },
      "source": [
        "test_df['preds'] = lr.predict(test_df[common_features])"
      ],
      "execution_count": 108,
      "outputs": [
        {
          "output_type": "error",
          "ename": "KeyError",
          "evalue": "ignored",
          "traceback": [
            "\u001b[1;31m---------------------------------------------------------------------------\u001b[0m",
            "\u001b[1;31mKeyError\u001b[0m                                  Traceback (most recent call last)",
            "\u001b[1;32m<ipython-input-108-06983b8132a5>\u001b[0m in \u001b[0;36m<module>\u001b[1;34m\u001b[0m\n\u001b[1;32m----> 1\u001b[1;33m \u001b[0mtest_df\u001b[0m\u001b[1;33m[\u001b[0m\u001b[1;34m'preds'\u001b[0m\u001b[1;33m]\u001b[0m \u001b[1;33m=\u001b[0m \u001b[0mlr\u001b[0m\u001b[1;33m.\u001b[0m\u001b[0mpredict\u001b[0m\u001b[1;33m(\u001b[0m\u001b[0mtest_df\u001b[0m\u001b[1;33m[\u001b[0m\u001b[0mcommon_features\u001b[0m\u001b[1;33m]\u001b[0m\u001b[1;33m)\u001b[0m\u001b[1;33m\u001b[0m\u001b[1;33m\u001b[0m\u001b[0m\n\u001b[0m",
            "\u001b[1;32m~\\anaconda3\\lib\\site-packages\\pandas\\core\\frame.py\u001b[0m in \u001b[0;36m__getitem__\u001b[1;34m(self, key)\u001b[0m\n\u001b[0;32m   2906\u001b[0m             \u001b[1;32mif\u001b[0m \u001b[0mis_iterator\u001b[0m\u001b[1;33m(\u001b[0m\u001b[0mkey\u001b[0m\u001b[1;33m)\u001b[0m\u001b[1;33m:\u001b[0m\u001b[1;33m\u001b[0m\u001b[1;33m\u001b[0m\u001b[0m\n\u001b[0;32m   2907\u001b[0m                 \u001b[0mkey\u001b[0m \u001b[1;33m=\u001b[0m \u001b[0mlist\u001b[0m\u001b[1;33m(\u001b[0m\u001b[0mkey\u001b[0m\u001b[1;33m)\u001b[0m\u001b[1;33m\u001b[0m\u001b[1;33m\u001b[0m\u001b[0m\n\u001b[1;32m-> 2908\u001b[1;33m             \u001b[0mindexer\u001b[0m \u001b[1;33m=\u001b[0m \u001b[0mself\u001b[0m\u001b[1;33m.\u001b[0m\u001b[0mloc\u001b[0m\u001b[1;33m.\u001b[0m\u001b[0m_get_listlike_indexer\u001b[0m\u001b[1;33m(\u001b[0m\u001b[0mkey\u001b[0m\u001b[1;33m,\u001b[0m \u001b[0maxis\u001b[0m\u001b[1;33m=\u001b[0m\u001b[1;36m1\u001b[0m\u001b[1;33m,\u001b[0m \u001b[0mraise_missing\u001b[0m\u001b[1;33m=\u001b[0m\u001b[1;32mTrue\u001b[0m\u001b[1;33m)\u001b[0m\u001b[1;33m[\u001b[0m\u001b[1;36m1\u001b[0m\u001b[1;33m]\u001b[0m\u001b[1;33m\u001b[0m\u001b[1;33m\u001b[0m\u001b[0m\n\u001b[0m\u001b[0;32m   2909\u001b[0m \u001b[1;33m\u001b[0m\u001b[0m\n\u001b[0;32m   2910\u001b[0m         \u001b[1;31m# take() does not accept boolean indexers\u001b[0m\u001b[1;33m\u001b[0m\u001b[1;33m\u001b[0m\u001b[1;33m\u001b[0m\u001b[0m\n",
            "\u001b[1;32m~\\anaconda3\\lib\\site-packages\\pandas\\core\\indexing.py\u001b[0m in \u001b[0;36m_get_listlike_indexer\u001b[1;34m(self, key, axis, raise_missing)\u001b[0m\n\u001b[0;32m   1252\u001b[0m             \u001b[0mkeyarr\u001b[0m\u001b[1;33m,\u001b[0m \u001b[0mindexer\u001b[0m\u001b[1;33m,\u001b[0m \u001b[0mnew_indexer\u001b[0m \u001b[1;33m=\u001b[0m \u001b[0max\u001b[0m\u001b[1;33m.\u001b[0m\u001b[0m_reindex_non_unique\u001b[0m\u001b[1;33m(\u001b[0m\u001b[0mkeyarr\u001b[0m\u001b[1;33m)\u001b[0m\u001b[1;33m\u001b[0m\u001b[1;33m\u001b[0m\u001b[0m\n\u001b[0;32m   1253\u001b[0m \u001b[1;33m\u001b[0m\u001b[0m\n\u001b[1;32m-> 1254\u001b[1;33m         \u001b[0mself\u001b[0m\u001b[1;33m.\u001b[0m\u001b[0m_validate_read_indexer\u001b[0m\u001b[1;33m(\u001b[0m\u001b[0mkeyarr\u001b[0m\u001b[1;33m,\u001b[0m \u001b[0mindexer\u001b[0m\u001b[1;33m,\u001b[0m \u001b[0maxis\u001b[0m\u001b[1;33m,\u001b[0m \u001b[0mraise_missing\u001b[0m\u001b[1;33m=\u001b[0m\u001b[0mraise_missing\u001b[0m\u001b[1;33m)\u001b[0m\u001b[1;33m\u001b[0m\u001b[1;33m\u001b[0m\u001b[0m\n\u001b[0m\u001b[0;32m   1255\u001b[0m         \u001b[1;32mreturn\u001b[0m \u001b[0mkeyarr\u001b[0m\u001b[1;33m,\u001b[0m \u001b[0mindexer\u001b[0m\u001b[1;33m\u001b[0m\u001b[1;33m\u001b[0m\u001b[0m\n\u001b[0;32m   1256\u001b[0m \u001b[1;33m\u001b[0m\u001b[0m\n",
            "\u001b[1;32m~\\anaconda3\\lib\\site-packages\\pandas\\core\\indexing.py\u001b[0m in \u001b[0;36m_validate_read_indexer\u001b[1;34m(self, key, indexer, axis, raise_missing)\u001b[0m\n\u001b[0;32m   1302\u001b[0m             \u001b[1;32mif\u001b[0m \u001b[0mraise_missing\u001b[0m\u001b[1;33m:\u001b[0m\u001b[1;33m\u001b[0m\u001b[1;33m\u001b[0m\u001b[0m\n\u001b[0;32m   1303\u001b[0m                 \u001b[0mnot_found\u001b[0m \u001b[1;33m=\u001b[0m \u001b[0mlist\u001b[0m\u001b[1;33m(\u001b[0m\u001b[0mset\u001b[0m\u001b[1;33m(\u001b[0m\u001b[0mkey\u001b[0m\u001b[1;33m)\u001b[0m \u001b[1;33m-\u001b[0m \u001b[0mset\u001b[0m\u001b[1;33m(\u001b[0m\u001b[0max\u001b[0m\u001b[1;33m)\u001b[0m\u001b[1;33m)\u001b[0m\u001b[1;33m\u001b[0m\u001b[1;33m\u001b[0m\u001b[0m\n\u001b[1;32m-> 1304\u001b[1;33m                 \u001b[1;32mraise\u001b[0m \u001b[0mKeyError\u001b[0m\u001b[1;33m(\u001b[0m\u001b[1;34mf\"{not_found} not in index\"\u001b[0m\u001b[1;33m)\u001b[0m\u001b[1;33m\u001b[0m\u001b[1;33m\u001b[0m\u001b[0m\n\u001b[0m\u001b[0;32m   1305\u001b[0m \u001b[1;33m\u001b[0m\u001b[0m\n\u001b[0;32m   1306\u001b[0m             \u001b[1;31m# we skip the warning on Categorical\u001b[0m\u001b[1;33m\u001b[0m\u001b[1;33m\u001b[0m\u001b[1;33m\u001b[0m\u001b[0m\n",
            "\u001b[1;31mKeyError\u001b[0m: \"['sub_type_Сувениры', 'sub_type_DVD', 'sub_type_CD локального производства', 'sub_type_Аксессуары для игр', 'sub_type_CD фирменного производства', 'sub_type_Live!', 'sub_type_Для дома и офиса', 'sub_type_Live! (Цифра)', 'sub_type_Blu', 'sub_type_MP3', 'sub_type_Коллекционное', 'sub_type_Дополнительные издания', 'sub_type_Мягкие игрушки', 'sub_type_Windows (Цифра)', 'sub_type_PS4', 'sub_type_Сумки, Альбомы, Коврики д/мыши', 'sub_type_Гаджеты, роботы, спорт', 'sub_type_XBOX ONE', 'sub_type_Методические материалы 1С', 'sub_type_Обучающие', 'sub_type_PSVita', 'sub_type_Аудиокниги', 'sub_type_Служебные', 'sub_type_Аудиокниги 1С', 'sub_type_Цифра', 'sub_type_PSN', 'sub_type_Аудиокниги (Цифра)', 'sub_type_Для дома и офиса (Цифра)', 'sub_type_Настольные игры', 'sub_type_Подарочные издания', 'sub_type_XBOX 360', 'sub_type_Развитие', 'sub_type_Комиксы, манга', 'sub_type_Артбуки, энциклопедии', 'sub_type_PSP', 'sub_type_Настольные игры (компактные)', 'sub_type_Гарнитуры/Наушники', 'sub_type_Коллекционные издания', 'sub_type_Винил', 'sub_type_Фигурки', 'sub_type_Элементы питания', 'sub_type_PS3', 'sub_type_Обучающие (Цифра)', 'sub_type_Атрибутика', 'sub_type_Доставка товара', 'sub_type_Стандартные издания', 'sub_type_Сувениры (в навеску)', 'sub_type_MAC (Цифра)'] not in index\""
          ]
        }
      ]
    },
    {
      "cell_type": "code",
      "metadata": {
        "colab": {
          "base_uri": "https://localhost:8080/",
          "height": 402
        },
        "id": "oABYuiRVeIOv",
        "outputId": "e5dea06b-b199-480a-f57d-ef193d482421"
      },
      "source": [
        "preds = test_df[['ID', 'preds']]\r\n",
        "preds.columns = ['ID', 'item_cnt_month']\r\n",
        "preds"
      ],
      "execution_count": 109,
      "outputs": [
        {
          "output_type": "execute_result",
          "data": {
            "text/plain": [
              "            ID  item_cnt_month\n",
              "0            0        2.510730\n",
              "1            1        1.331264\n",
              "2            2        2.410451\n",
              "3            3        2.209825\n",
              "4            4        4.064938\n",
              "...        ...             ...\n",
              "214195  214195        1.347500\n",
              "214196  214196        1.582058\n",
              "214197  214197        1.349085\n",
              "214198  214198        1.828054\n",
              "214199  214199        1.459666\n",
              "\n",
              "[214200 rows x 2 columns]"
            ],
            "text/html": [
              "<div>\n",
              "<style scoped>\n",
              "    .dataframe tbody tr th:only-of-type {\n",
              "        vertical-align: middle;\n",
              "    }\n",
              "\n",
              "    .dataframe tbody tr th {\n",
              "        vertical-align: top;\n",
              "    }\n",
              "\n",
              "    .dataframe thead th {\n",
              "        text-align: right;\n",
              "    }\n",
              "</style>\n",
              "<table border=\"1\" class=\"dataframe\">\n",
              "  <thead>\n",
              "    <tr style=\"text-align: right;\">\n",
              "      <th></th>\n",
              "      <th>ID</th>\n",
              "      <th>item_cnt_month</th>\n",
              "    </tr>\n",
              "  </thead>\n",
              "  <tbody>\n",
              "    <tr>\n",
              "      <th>0</th>\n",
              "      <td>0</td>\n",
              "      <td>2.510730</td>\n",
              "    </tr>\n",
              "    <tr>\n",
              "      <th>1</th>\n",
              "      <td>1</td>\n",
              "      <td>1.331264</td>\n",
              "    </tr>\n",
              "    <tr>\n",
              "      <th>2</th>\n",
              "      <td>2</td>\n",
              "      <td>2.410451</td>\n",
              "    </tr>\n",
              "    <tr>\n",
              "      <th>3</th>\n",
              "      <td>3</td>\n",
              "      <td>2.209825</td>\n",
              "    </tr>\n",
              "    <tr>\n",
              "      <th>4</th>\n",
              "      <td>4</td>\n",
              "      <td>4.064938</td>\n",
              "    </tr>\n",
              "    <tr>\n",
              "      <th>...</th>\n",
              "      <td>...</td>\n",
              "      <td>...</td>\n",
              "    </tr>\n",
              "    <tr>\n",
              "      <th>214195</th>\n",
              "      <td>214195</td>\n",
              "      <td>1.347500</td>\n",
              "    </tr>\n",
              "    <tr>\n",
              "      <th>214196</th>\n",
              "      <td>214196</td>\n",
              "      <td>1.582058</td>\n",
              "    </tr>\n",
              "    <tr>\n",
              "      <th>214197</th>\n",
              "      <td>214197</td>\n",
              "      <td>1.349085</td>\n",
              "    </tr>\n",
              "    <tr>\n",
              "      <th>214198</th>\n",
              "      <td>214198</td>\n",
              "      <td>1.828054</td>\n",
              "    </tr>\n",
              "    <tr>\n",
              "      <th>214199</th>\n",
              "      <td>214199</td>\n",
              "      <td>1.459666</td>\n",
              "    </tr>\n",
              "  </tbody>\n",
              "</table>\n",
              "<p>214200 rows × 2 columns</p>\n",
              "</div>"
            ]
          },
          "metadata": {
            "tags": []
          },
          "execution_count": 109
        }
      ]
    },
    {
      "cell_type": "code",
      "metadata": {
        "id": "gPzkgflJOXo2"
      },
      "source": [
        "preds.to_csv('my_submission.csv', index=False)\r\n"
      ],
      "execution_count": 122,
      "outputs": []
    }
  ]
}